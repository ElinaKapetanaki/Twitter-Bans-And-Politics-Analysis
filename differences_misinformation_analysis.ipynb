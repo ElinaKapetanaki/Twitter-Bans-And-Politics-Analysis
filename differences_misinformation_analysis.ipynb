{
 "cells": [
  {
   "cell_type": "markdown",
   "metadata": {},
   "source": [
    "#  Politically Asymmetric Sanctions in Social Media and Misinformation Sharing"
   ]
  },
  {
   "cell_type": "markdown",
   "metadata": {},
   "source": [
    "Inspired by *Nature's* recent publication: [Mosleh, M., Yang, Q., Zaman, T., Pennycook, G., & Rand, D. G. (2024). Differences in misinformation sharing can lead to politically asymmetric sanctions. Nature, 634, 17 October 2024. https://doi.org/10.1038/s41586-024-07942-8](https://doi.org/10.1038/s41586-024-07942-8).\n",
    "\n",
    "---\n",
    "\n",
    "> Evangelia Kapetanaki<br />\n",
    "> AM: 8210050<br />\n",
    "> Department of Management Science and Technology <br />\n",
    "> Athens University of Economics and Business <br />\n",
    "> Major: Data Analysis and Software Technologies <br />\n",
    "> t8210050@aueb.gr\n",
    "\n",
    "* Nowadays, social media platforms are a primary means of communication.\n",
    "\n",
    "* However, they also play a significant role in the dissemination of misinformation, causing widespread worry.\n",
    "\n",
    "* Many platforms have implemented policies to combat misinformation, including removing content, flagging false posts, and suspending accounts.\n",
    "\n",
    "* These attempts have resulted in frequent allegations of political favoritism, especially allegations that conservatives experience unequal enforcement.\n",
    "\n",
    "* Mosleh et al. (2024) in a recent publication on *Nature* showed that differences in the spread of false information among political orientation groups could lead to differences in suspensions, even when policies are unbiased.\n",
    "\n",
    "* More specifically, they analyzed $9.000$ Twitter users during the 2020 U.S. election and found that pro-Trump/conservative users were more likely to be suspended than pro-Biden users due to higher rates of sharing low-quality news.\n",
    "\n",
    "* In this analysis we will replicate some of the methods used to derive these results using statistics with the same dataset that the authors of the article used.\n"
   ]
  },
  {
   "cell_type": "markdown",
   "metadata": {},
   "source": [
    "## Setup and Data Inspection"
   ]
  },
  {
   "cell_type": "markdown",
   "metadata": {},
   "source": [
    "* We start by importing any libraries that will be useful to us in our analysis."
   ]
  },
  {
   "cell_type": "code",
   "execution_count": 1,
   "metadata": {},
   "outputs": [],
   "source": [
    "import numpy as np\n",
    "import pandas as pd\n",
    "\n",
    "from sklearn.decomposition import PCA\n",
    "from sklearn.metrics import roc_auc_score\n",
    "from sklearn.preprocessing import StandardScaler\n",
    "\n",
    "from scipy.stats import (\n",
    "    chi2_contingency,\n",
    "    gaussian_kde,\n",
    "    norm,\n",
    "    ttest_ind,\n",
    "    zscore\n",
    ")\n",
    "from scipy.stats.mstats import winsorize\n",
    "from statsmodels.discrete.discrete_model import Logit, Probit\n",
    "from statsmodels.stats.multitest import multipletests\n",
    "from statsmodels.tools import add_constant\n",
    "\n",
    "import matplotlib.pyplot as plt\n",
    "from matplotlib.colors import LinearSegmentedColormap\n",
    "from matplotlib.patches import Rectangle\n",
    "import seaborn as sns\n",
    "\n",
    "import textwrap"
   ]
  },
  {
   "cell_type": "markdown",
   "metadata": {},
   "source": [
    "* And we read our data, which are publically available [here](https://osf.io/hy7fz) on The Open Science Framework, a platform for sharing and collaborating on research projects and data."
   ]
  },
  {
   "cell_type": "code",
   "execution_count": 2,
   "metadata": {
    "vscode": {
     "languageId": "plaintext"
    }
   },
   "outputs": [
    {
     "data": {
      "text/html": [
       "<div>\n",
       "<style scoped>\n",
       "    .dataframe tbody tr th:only-of-type {\n",
       "        vertical-align: middle;\n",
       "    }\n",
       "\n",
       "    .dataframe tbody tr th {\n",
       "        vertical-align: top;\n",
       "    }\n",
       "\n",
       "    .dataframe thead th {\n",
       "        text-align: right;\n",
       "    }\n",
       "</style>\n",
       "<table border=\"1\" class=\"dataframe\">\n",
       "  <thead>\n",
       "    <tr style=\"text-align: right;\">\n",
       "      <th></th>\n",
       "      <th>politics_sites2</th>\n",
       "      <th>politics_sites1</th>\n",
       "      <th>politics_followed</th>\n",
       "      <th>lowqual_pr2019_crowd</th>\n",
       "      <th>lowqual_pr2019_fc</th>\n",
       "      <th>lowqual_afm</th>\n",
       "      <th>lowqual_mbfc</th>\n",
       "      <th>lowqual_lasser2019</th>\n",
       "      <th>suspended</th>\n",
       "      <th>politics_hashtag</th>\n",
       "      <th>...</th>\n",
       "      <th>valence_neg</th>\n",
       "      <th>valence_neu</th>\n",
       "      <th>valence_pos</th>\n",
       "      <th>politics_sites2_ideo_std</th>\n",
       "      <th>hashtag_ideo_std</th>\n",
       "      <th>barbera_std</th>\n",
       "      <th>politics_sites1_std</th>\n",
       "      <th>repeated_tweet_count</th>\n",
       "      <th>freq_pr_1h</th>\n",
       "      <th>bad_domain_count</th>\n",
       "    </tr>\n",
       "  </thead>\n",
       "  <tbody>\n",
       "    <tr>\n",
       "      <th>0</th>\n",
       "      <td>-0.231902</td>\n",
       "      <td>-1.168745</td>\n",
       "      <td>-0.080295</td>\n",
       "      <td>0.598883</td>\n",
       "      <td>0.279221</td>\n",
       "      <td>0.185315</td>\n",
       "      <td>0.292807</td>\n",
       "      <td>0.350000</td>\n",
       "      <td>0</td>\n",
       "      <td>0</td>\n",
       "      <td>...</td>\n",
       "      <td>0.109935</td>\n",
       "      <td>0.813230</td>\n",
       "      <td>0.076835</td>\n",
       "      <td>0.274317</td>\n",
       "      <td>0.0</td>\n",
       "      <td>0.909460</td>\n",
       "      <td>69</td>\n",
       "      <td>86.0</td>\n",
       "      <td>30</td>\n",
       "      <td>7</td>\n",
       "    </tr>\n",
       "    <tr>\n",
       "      <th>1</th>\n",
       "      <td>0.405261</td>\n",
       "      <td>1.060905</td>\n",
       "      <td>2.296375</td>\n",
       "      <td>0.774873</td>\n",
       "      <td>0.848639</td>\n",
       "      <td>0.614156</td>\n",
       "      <td>0.513147</td>\n",
       "      <td>0.975087</td>\n",
       "      <td>0</td>\n",
       "      <td>1</td>\n",
       "      <td>...</td>\n",
       "      <td>0.115985</td>\n",
       "      <td>0.793715</td>\n",
       "      <td>0.090250</td>\n",
       "      <td>0.351800</td>\n",
       "      <td>0.0</td>\n",
       "      <td>0.157056</td>\n",
       "      <td>623</td>\n",
       "      <td>133.0</td>\n",
       "      <td>26</td>\n",
       "      <td>20</td>\n",
       "    </tr>\n",
       "    <tr>\n",
       "      <th>2</th>\n",
       "      <td>-0.171067</td>\n",
       "      <td>-0.500076</td>\n",
       "      <td>-2.312730</td>\n",
       "      <td>0.548727</td>\n",
       "      <td>0.242347</td>\n",
       "      <td>0.130950</td>\n",
       "      <td>0.242445</td>\n",
       "      <td>0.300000</td>\n",
       "      <td>0</td>\n",
       "      <td>0</td>\n",
       "      <td>...</td>\n",
       "      <td>0.085765</td>\n",
       "      <td>0.817340</td>\n",
       "      <td>0.096915</td>\n",
       "      <td>0.279591</td>\n",
       "      <td>0.0</td>\n",
       "      <td>0.445349</td>\n",
       "      <td>32</td>\n",
       "      <td>3.0</td>\n",
       "      <td>3</td>\n",
       "      <td>6</td>\n",
       "    </tr>\n",
       "    <tr>\n",
       "      <th>3</th>\n",
       "      <td>-0.085814</td>\n",
       "      <td>-0.748035</td>\n",
       "      <td>-1.507481</td>\n",
       "      <td>0.611501</td>\n",
       "      <td>0.360119</td>\n",
       "      <td>0.180055</td>\n",
       "      <td>0.277793</td>\n",
       "      <td>0.316038</td>\n",
       "      <td>0</td>\n",
       "      <td>0</td>\n",
       "      <td>...</td>\n",
       "      <td>0.108680</td>\n",
       "      <td>0.781135</td>\n",
       "      <td>0.110190</td>\n",
       "      <td>0.290277</td>\n",
       "      <td>0.0</td>\n",
       "      <td>0.256665</td>\n",
       "      <td>55</td>\n",
       "      <td>104.0</td>\n",
       "      <td>29</td>\n",
       "      <td>22</td>\n",
       "    </tr>\n",
       "    <tr>\n",
       "      <th>4</th>\n",
       "      <td>0.595367</td>\n",
       "      <td>1.347730</td>\n",
       "      <td>2.010573</td>\n",
       "      <td>0.700217</td>\n",
       "      <td>0.698661</td>\n",
       "      <td>0.430655</td>\n",
       "      <td>0.554609</td>\n",
       "      <td>0.763889</td>\n",
       "      <td>0</td>\n",
       "      <td>1</td>\n",
       "      <td>...</td>\n",
       "      <td>0.065145</td>\n",
       "      <td>0.860550</td>\n",
       "      <td>0.074320</td>\n",
       "      <td>0.300823</td>\n",
       "      <td>0.0</td>\n",
       "      <td>0.431149</td>\n",
       "      <td>37</td>\n",
       "      <td>36.0</td>\n",
       "      <td>8</td>\n",
       "      <td>8</td>\n",
       "    </tr>\n",
       "  </tbody>\n",
       "</table>\n",
       "<p>5 rows × 42 columns</p>\n",
       "</div>"
      ],
      "text/plain": [
       "   politics_sites2  politics_sites1  politics_followed  lowqual_pr2019_crowd  \\\n",
       "0        -0.231902        -1.168745          -0.080295              0.598883   \n",
       "1         0.405261         1.060905           2.296375              0.774873   \n",
       "2        -0.171067        -0.500076          -2.312730              0.548727   \n",
       "3        -0.085814        -0.748035          -1.507481              0.611501   \n",
       "4         0.595367         1.347730           2.010573              0.700217   \n",
       "\n",
       "   lowqual_pr2019_fc  lowqual_afm  lowqual_mbfc  lowqual_lasser2019  \\\n",
       "0           0.279221     0.185315      0.292807            0.350000   \n",
       "1           0.848639     0.614156      0.513147            0.975087   \n",
       "2           0.242347     0.130950      0.242445            0.300000   \n",
       "3           0.360119     0.180055      0.277793            0.316038   \n",
       "4           0.698661     0.430655      0.554609            0.763889   \n",
       "\n",
       "   suspended  politics_hashtag  ...  valence_neg  valence_neu  valence_pos  \\\n",
       "0          0                 0  ...     0.109935     0.813230     0.076835   \n",
       "1          0                 1  ...     0.115985     0.793715     0.090250   \n",
       "2          0                 0  ...     0.085765     0.817340     0.096915   \n",
       "3          0                 0  ...     0.108680     0.781135     0.110190   \n",
       "4          0                 1  ...     0.065145     0.860550     0.074320   \n",
       "\n",
       "   politics_sites2_ideo_std  hashtag_ideo_std  barbera_std  \\\n",
       "0                  0.274317               0.0     0.909460   \n",
       "1                  0.351800               0.0     0.157056   \n",
       "2                  0.279591               0.0     0.445349   \n",
       "3                  0.290277               0.0     0.256665   \n",
       "4                  0.300823               0.0     0.431149   \n",
       "\n",
       "   politics_sites1_std  repeated_tweet_count  freq_pr_1h  bad_domain_count  \n",
       "0                   69                  86.0          30                 7  \n",
       "1                  623                 133.0          26                20  \n",
       "2                   32                   3.0           3                 6  \n",
       "3                   55                 104.0          29                22  \n",
       "4                   37                  36.0           8                 8  \n",
       "\n",
       "[5 rows x 42 columns]"
      ]
     },
     "execution_count": 2,
     "metadata": {},
     "output_type": "execute_result"
    }
   ],
   "source": [
    "file_path = \"mosleh_et_al_data.csv\"\n",
    "\n",
    "data = pd.read_csv(file_path)\n",
    "\n",
    "data.head()"
   ]
  },
  {
   "cell_type": "markdown",
   "metadata": {},
   "source": [
    "* At first glance our data may not be so clear in their content.\n",
    "\n",
    "* So let's inspect them a bit more."
   ]
  },
  {
   "cell_type": "code",
   "execution_count": 3,
   "metadata": {},
   "outputs": [
    {
     "name": "stdout",
     "output_type": "stream",
     "text": [
      "(9000, 42)\n"
     ]
    },
    {
     "data": {
      "text/plain": [
       "politics_hashtag\n",
       "1    4505\n",
       "0    4495\n",
       "Name: count, dtype: int64"
      ]
     },
     "execution_count": 3,
     "metadata": {},
     "output_type": "execute_result"
    }
   ],
   "source": [
    "print(data.shape)\n",
    "data['politics_hashtag'].value_counts()"
   ]
  },
  {
   "cell_type": "markdown",
   "metadata": {},
   "source": [
    "* We see that we have $9.000$ rows, which correspond to Twitter users.\n",
    "\n",
    "* From these $9.000$ users, about $4.500$ have used (*#Trump2020*) and about $4.500$ have used (*#VoteBidenHarris2020*).\n",
    "\n",
    "More specifically according to the article:\n",
    "\n",
    "* The researchers identified Twitter users who had used the hashtags *#Trump2020* or *#VoteBidenHarris2020* on October 6, 2020 ($100.000$).\n",
    "\n",
    "* Randomly selected $34,920$ users and collected their $3.200$ most recent tweets.\n",
    "\n",
    "* After filtering for users who shared at least $5$ links to news websites, the dataset had $12.238$ users.\n",
    "\n",
    "* Then, $426$ \"elite users\" with over $15.000$ followers were removed.\n",
    "\n",
    "* Lastly about $4.500$ users were randomly selected from each political group, creating an equal and representative sample of $9.000$ users.\n",
    "\n",
    "Let's now look into our columns."
   ]
  },
  {
   "cell_type": "code",
   "execution_count": 4,
   "metadata": {},
   "outputs": [
    {
     "data": {
      "text/plain": [
       "Index(['politics_sites2', 'politics_sites1', 'politics_followed',\n",
       "       'lowqual_pr2019_crowd', 'lowqual_pr2019_fc', 'lowqual_afm',\n",
       "       'lowqual_mbfc', 'lowqual_lasser2019', 'suspended', 'politics_hashtag',\n",
       "       'lowqual_pr2019_crowdrep', 'num_followers', 'num_friends',\n",
       "       'tweets_in_2wk', 'botsentinel_score', 'rewire_abuse', 'rewire_hate',\n",
       "       'rewire_profanity', 'rewire_violent', 'rewire_sexually_explicit',\n",
       "       'jigsaw_toxicity', 'jigsaw_severe_toxicity', 'jigsaw_idenity_attack',\n",
       "       'jigsaw_insult', 'jigsaw_profanity', 'jigsaw_threat',\n",
       "       'rocklage_valence_std', 'rocklage_extremity_std',\n",
       "       'rocklage_emotionality_std', 'rocklage_certainty_std', 'liwc_political',\n",
       "       'moral_outrage', 'valence_neg', 'valence_neu', 'valence_pos',\n",
       "       'politics_sites2_ideo_std', 'hashtag_ideo_std', 'barbera_std',\n",
       "       'politics_sites1_std', 'repeated_tweet_count', 'freq_pr_1h',\n",
       "       'bad_domain_count'],\n",
       "      dtype='object')"
      ]
     },
     "execution_count": 4,
     "metadata": {},
     "output_type": "execute_result"
    }
   ],
   "source": [
    "data.columns"
   ]
  },
  {
   "cell_type": "markdown",
   "metadata": {},
   "source": [
    "* Our dataset includes several categories of variables/columns that provide insights into user behavior, political alignment, and content shared on Twitter.\n",
    "\n",
    "* Core Columns: The most important columns in our analysis are :\n",
    "  \n",
    "    * **Politics Hashtag** (`politics_hashtag`) : political hashtags (*#Trump2020* or *#VoteBidenHarris2020*) used by the user.\n",
    "    \n",
    "    * **Suspension** (`suspended`) : whether the user has been suspended.\n",
    "\n",
    "    * **News quality indicators** (such as `lowqual_pr2019_crowd`) : quality of the news shared by user.\n",
    "\n",
    "* Other columns we use in our analysis have to do with :\n",
    "  \n",
    "    * **Political Orientation** (such as `politics_sites1`) : additional to `politics_hashtag`\n",
    "\n",
    "    * **Toxicity Metrics** (such as `rewire_hate`) : harmful language in user posts.\n",
    "\n",
    "    * **Sentiment and Emotion** (such as `valence_neg`) : emotional tone of shared content.\n",
    "\n",
    "    * **Activity and Influence** (such as `num_followers`) : user activity levels and network size."
   ]
  },
  {
   "cell_type": "markdown",
   "metadata": {},
   "source": [
    "Let's also get a summary of our columns."
   ]
  },
  {
   "cell_type": "code",
   "execution_count": 5,
   "metadata": {},
   "outputs": [
    {
     "data": {
      "text/html": [
       "<div>\n",
       "<style scoped>\n",
       "    .dataframe tbody tr th:only-of-type {\n",
       "        vertical-align: middle;\n",
       "    }\n",
       "\n",
       "    .dataframe tbody tr th {\n",
       "        vertical-align: top;\n",
       "    }\n",
       "\n",
       "    .dataframe thead th {\n",
       "        text-align: right;\n",
       "    }\n",
       "</style>\n",
       "<table border=\"1\" class=\"dataframe\">\n",
       "  <thead>\n",
       "    <tr style=\"text-align: right;\">\n",
       "      <th></th>\n",
       "      <th>politics_sites2</th>\n",
       "      <th>politics_sites1</th>\n",
       "      <th>politics_followed</th>\n",
       "      <th>lowqual_pr2019_crowd</th>\n",
       "      <th>lowqual_pr2019_fc</th>\n",
       "      <th>lowqual_afm</th>\n",
       "      <th>lowqual_mbfc</th>\n",
       "      <th>lowqual_lasser2019</th>\n",
       "      <th>suspended</th>\n",
       "      <th>politics_hashtag</th>\n",
       "      <th>...</th>\n",
       "      <th>valence_neg</th>\n",
       "      <th>valence_neu</th>\n",
       "      <th>valence_pos</th>\n",
       "      <th>politics_sites2_ideo_std</th>\n",
       "      <th>hashtag_ideo_std</th>\n",
       "      <th>barbera_std</th>\n",
       "      <th>politics_sites1_std</th>\n",
       "      <th>repeated_tweet_count</th>\n",
       "      <th>freq_pr_1h</th>\n",
       "      <th>bad_domain_count</th>\n",
       "    </tr>\n",
       "  </thead>\n",
       "  <tbody>\n",
       "    <tr>\n",
       "      <th>count</th>\n",
       "      <td>9000.000000</td>\n",
       "      <td>9000.000000</td>\n",
       "      <td>7965.000000</td>\n",
       "      <td>8945.000000</td>\n",
       "      <td>8945.000000</td>\n",
       "      <td>8998.000000</td>\n",
       "      <td>8999.000000</td>\n",
       "      <td>8999.000000</td>\n",
       "      <td>9000.000000</td>\n",
       "      <td>9000.000000</td>\n",
       "      <td>...</td>\n",
       "      <td>8974.000000</td>\n",
       "      <td>8974.000000</td>\n",
       "      <td>8974.000000</td>\n",
       "      <td>9000.000000</td>\n",
       "      <td>9000.000000</td>\n",
       "      <td>8373.000000</td>\n",
       "      <td>9000.000000</td>\n",
       "      <td>8471.000000</td>\n",
       "      <td>9000.000000</td>\n",
       "      <td>9000.000000</td>\n",
       "    </tr>\n",
       "    <tr>\n",
       "      <th>mean</th>\n",
       "      <td>0.111928</td>\n",
       "      <td>0.016998</td>\n",
       "      <td>0.227696</td>\n",
       "      <td>0.637918</td>\n",
       "      <td>0.466415</td>\n",
       "      <td>0.275468</td>\n",
       "      <td>0.413464</td>\n",
       "      <td>0.494095</td>\n",
       "      <td>0.120222</td>\n",
       "      <td>0.500556</td>\n",
       "      <td>...</td>\n",
       "      <td>0.071231</td>\n",
       "      <td>0.835800</td>\n",
       "      <td>0.092969</td>\n",
       "      <td>0.273516</td>\n",
       "      <td>0.037318</td>\n",
       "      <td>0.631783</td>\n",
       "      <td>66.785000</td>\n",
       "      <td>212.252272</td>\n",
       "      <td>17.836222</td>\n",
       "      <td>10.045000</td>\n",
       "    </tr>\n",
       "    <tr>\n",
       "      <th>std</th>\n",
       "      <td>0.305400</td>\n",
       "      <td>0.896221</td>\n",
       "      <td>1.559826</td>\n",
       "      <td>0.072139</td>\n",
       "      <td>0.239274</td>\n",
       "      <td>0.115979</td>\n",
       "      <td>0.118111</td>\n",
       "      <td>0.201150</td>\n",
       "      <td>0.325239</td>\n",
       "      <td>0.500027</td>\n",
       "      <td>...</td>\n",
       "      <td>0.020335</td>\n",
       "      <td>0.036666</td>\n",
       "      <td>0.028129</td>\n",
       "      <td>0.070535</td>\n",
       "      <td>0.135399</td>\n",
       "      <td>0.302341</td>\n",
       "      <td>95.101625</td>\n",
       "      <td>444.466650</td>\n",
       "      <td>16.940017</td>\n",
       "      <td>23.239408</td>\n",
       "    </tr>\n",
       "    <tr>\n",
       "      <th>min</th>\n",
       "      <td>-0.515800</td>\n",
       "      <td>-2.049115</td>\n",
       "      <td>-2.444294</td>\n",
       "      <td>0.524729</td>\n",
       "      <td>0.071429</td>\n",
       "      <td>0.014881</td>\n",
       "      <td>0.016225</td>\n",
       "      <td>0.006419</td>\n",
       "      <td>0.000000</td>\n",
       "      <td>0.000000</td>\n",
       "      <td>...</td>\n",
       "      <td>0.000000</td>\n",
       "      <td>0.565760</td>\n",
       "      <td>0.000000</td>\n",
       "      <td>0.000000</td>\n",
       "      <td>0.000000</td>\n",
       "      <td>0.000489</td>\n",
       "      <td>4.000000</td>\n",
       "      <td>1.000000</td>\n",
       "      <td>0.000000</td>\n",
       "      <td>0.000000</td>\n",
       "    </tr>\n",
       "    <tr>\n",
       "      <th>25%</th>\n",
       "      <td>-0.171652</td>\n",
       "      <td>-0.825691</td>\n",
       "      <td>-1.375251</td>\n",
       "      <td>0.567706</td>\n",
       "      <td>0.235390</td>\n",
       "      <td>0.169242</td>\n",
       "      <td>0.303467</td>\n",
       "      <td>0.321429</td>\n",
       "      <td>0.000000</td>\n",
       "      <td>0.000000</td>\n",
       "      <td>...</td>\n",
       "      <td>0.060176</td>\n",
       "      <td>0.816712</td>\n",
       "      <td>0.077290</td>\n",
       "      <td>0.232173</td>\n",
       "      <td>0.000000</td>\n",
       "      <td>0.358380</td>\n",
       "      <td>20.000000</td>\n",
       "      <td>21.000000</td>\n",
       "      <td>8.000000</td>\n",
       "      <td>1.000000</td>\n",
       "    </tr>\n",
       "    <tr>\n",
       "      <th>50%</th>\n",
       "      <td>0.037170</td>\n",
       "      <td>-0.082240</td>\n",
       "      <td>0.831402</td>\n",
       "      <td>0.633167</td>\n",
       "      <td>0.457143</td>\n",
       "      <td>0.245677</td>\n",
       "      <td>0.421450</td>\n",
       "      <td>0.410714</td>\n",
       "      <td>0.000000</td>\n",
       "      <td>1.000000</td>\n",
       "      <td>...</td>\n",
       "      <td>0.071212</td>\n",
       "      <td>0.835818</td>\n",
       "      <td>0.090363</td>\n",
       "      <td>0.275003</td>\n",
       "      <td>0.000000</td>\n",
       "      <td>0.603071</td>\n",
       "      <td>43.000000</td>\n",
       "      <td>69.000000</td>\n",
       "      <td>14.000000</td>\n",
       "      <td>4.000000</td>\n",
       "    </tr>\n",
       "    <tr>\n",
       "      <th>75%</th>\n",
       "      <td>0.417229</td>\n",
       "      <td>0.859888</td>\n",
       "      <td>1.701126</td>\n",
       "      <td>0.704621</td>\n",
       "      <td>0.702773</td>\n",
       "      <td>0.383621</td>\n",
       "      <td>0.515771</td>\n",
       "      <td>0.691950</td>\n",
       "      <td>0.000000</td>\n",
       "      <td>1.000000</td>\n",
       "      <td>...</td>\n",
       "      <td>0.081980</td>\n",
       "      <td>0.852244</td>\n",
       "      <td>0.106345</td>\n",
       "      <td>0.322558</td>\n",
       "      <td>0.000000</td>\n",
       "      <td>0.878333</td>\n",
       "      <td>80.000000</td>\n",
       "      <td>187.000000</td>\n",
       "      <td>22.000000</td>\n",
       "      <td>12.000000</td>\n",
       "    </tr>\n",
       "    <tr>\n",
       "      <th>max</th>\n",
       "      <td>0.863750</td>\n",
       "      <td>2.672990</td>\n",
       "      <td>2.456834</td>\n",
       "      <td>0.823364</td>\n",
       "      <td>0.989881</td>\n",
       "      <td>0.814544</td>\n",
       "      <td>0.967400</td>\n",
       "      <td>1.000000</td>\n",
       "      <td>1.000000</td>\n",
       "      <td>1.000000</td>\n",
       "      <td>...</td>\n",
       "      <td>0.241860</td>\n",
       "      <td>0.999075</td>\n",
       "      <td>0.367570</td>\n",
       "      <td>0.685976</td>\n",
       "      <td>0.707107</td>\n",
       "      <td>1.880192</td>\n",
       "      <td>2450.000000</td>\n",
       "      <td>5444.000000</td>\n",
       "      <td>234.000000</td>\n",
       "      <td>1160.000000</td>\n",
       "    </tr>\n",
       "  </tbody>\n",
       "</table>\n",
       "<p>8 rows × 42 columns</p>\n",
       "</div>"
      ],
      "text/plain": [
       "       politics_sites2  politics_sites1  politics_followed  \\\n",
       "count      9000.000000      9000.000000        7965.000000   \n",
       "mean          0.111928         0.016998           0.227696   \n",
       "std           0.305400         0.896221           1.559826   \n",
       "min          -0.515800        -2.049115          -2.444294   \n",
       "25%          -0.171652        -0.825691          -1.375251   \n",
       "50%           0.037170        -0.082240           0.831402   \n",
       "75%           0.417229         0.859888           1.701126   \n",
       "max           0.863750         2.672990           2.456834   \n",
       "\n",
       "       lowqual_pr2019_crowd  lowqual_pr2019_fc  lowqual_afm  lowqual_mbfc  \\\n",
       "count           8945.000000        8945.000000  8998.000000   8999.000000   \n",
       "mean               0.637918           0.466415     0.275468      0.413464   \n",
       "std                0.072139           0.239274     0.115979      0.118111   \n",
       "min                0.524729           0.071429     0.014881      0.016225   \n",
       "25%                0.567706           0.235390     0.169242      0.303467   \n",
       "50%                0.633167           0.457143     0.245677      0.421450   \n",
       "75%                0.704621           0.702773     0.383621      0.515771   \n",
       "max                0.823364           0.989881     0.814544      0.967400   \n",
       "\n",
       "       lowqual_lasser2019    suspended  politics_hashtag  ...  valence_neg  \\\n",
       "count         8999.000000  9000.000000       9000.000000  ...  8974.000000   \n",
       "mean             0.494095     0.120222          0.500556  ...     0.071231   \n",
       "std              0.201150     0.325239          0.500027  ...     0.020335   \n",
       "min              0.006419     0.000000          0.000000  ...     0.000000   \n",
       "25%              0.321429     0.000000          0.000000  ...     0.060176   \n",
       "50%              0.410714     0.000000          1.000000  ...     0.071212   \n",
       "75%              0.691950     0.000000          1.000000  ...     0.081980   \n",
       "max              1.000000     1.000000          1.000000  ...     0.241860   \n",
       "\n",
       "       valence_neu  valence_pos  politics_sites2_ideo_std  hashtag_ideo_std  \\\n",
       "count  8974.000000  8974.000000               9000.000000       9000.000000   \n",
       "mean      0.835800     0.092969                  0.273516          0.037318   \n",
       "std       0.036666     0.028129                  0.070535          0.135399   \n",
       "min       0.565760     0.000000                  0.000000          0.000000   \n",
       "25%       0.816712     0.077290                  0.232173          0.000000   \n",
       "50%       0.835818     0.090363                  0.275003          0.000000   \n",
       "75%       0.852244     0.106345                  0.322558          0.000000   \n",
       "max       0.999075     0.367570                  0.685976          0.707107   \n",
       "\n",
       "       barbera_std  politics_sites1_std  repeated_tweet_count   freq_pr_1h  \\\n",
       "count  8373.000000          9000.000000           8471.000000  9000.000000   \n",
       "mean      0.631783            66.785000            212.252272    17.836222   \n",
       "std       0.302341            95.101625            444.466650    16.940017   \n",
       "min       0.000489             4.000000              1.000000     0.000000   \n",
       "25%       0.358380            20.000000             21.000000     8.000000   \n",
       "50%       0.603071            43.000000             69.000000    14.000000   \n",
       "75%       0.878333            80.000000            187.000000    22.000000   \n",
       "max       1.880192          2450.000000           5444.000000   234.000000   \n",
       "\n",
       "       bad_domain_count  \n",
       "count       9000.000000  \n",
       "mean          10.045000  \n",
       "std           23.239408  \n",
       "min            0.000000  \n",
       "25%            1.000000  \n",
       "50%            4.000000  \n",
       "75%           12.000000  \n",
       "max         1160.000000  \n",
       "\n",
       "[8 rows x 42 columns]"
      ]
     },
     "execution_count": 5,
     "metadata": {},
     "output_type": "execute_result"
    }
   ],
   "source": [
    "data.describe(include='all')"
   ]
  },
  {
   "cell_type": "markdown",
   "metadata": {},
   "source": [
    "* We notice that :\n",
    "\n",
    "    * There are `NaN` values in some columns as not all column counts are equal to $9.000$.\n",
    "    \n",
    "    * Some columns have much different variance than others (ex. `repeated_tweet_count` ($std = 95.10$) and `freq_pr_1h` ($std = 444.47$) have significantly higher variances compared to others like `valence_neg` ($std = 0.02$).\n",
    "    \n",
    "    * There are wide differences in ranges (ex. `politics_sites2` ranges from $-0.5158$ to $0.8638$ (narrow range), while `repeated_tweet_count` ranges from $4$ to $2.450$ (extremely wide range))."
   ]
  },
  {
   "cell_type": "markdown",
   "metadata": {},
   "source": [
    "## Twitter Suspensions after the 2020 Election\n",
    "\n",
    "* Keeping all the above in mind we will move onto checking whether Trump supporters are getting suspended more than Biden supporters.\n",
    "\n",
    "* To do that we will use **Crosstabulation** using :\n",
    "  \n",
    "    * the `suspended` column ($0/1$ where $0$ : not suspended and $1$ : suspended) ($0$ missing values according to the summary at the previous chapter) and\n",
    "    * the `politics_hashtag` column ($0/1$ where $0$ : has used *#VoteBidenHarris2020* and $1$ : has used *#Trump2020*)  ($0$ missing values)."
   ]
  },
  {
   "cell_type": "code",
   "execution_count": 6,
   "metadata": {},
   "outputs": [],
   "source": [
    "crosstab_counts = pd.crosstab(data['politics_hashtag'], data['suspended'])"
   ]
  },
  {
   "cell_type": "markdown",
   "metadata": {},
   "source": [
    "* We add the percentages of the crosstabulation and we display our results in a table. "
   ]
  },
  {
   "cell_type": "code",
   "execution_count": 7,
   "metadata": {},
   "outputs": [
    {
     "data": {
      "text/html": [
       "<div>\n",
       "<style scoped>\n",
       "    .dataframe tbody tr th:only-of-type {\n",
       "        vertical-align: middle;\n",
       "    }\n",
       "\n",
       "    .dataframe tbody tr th {\n",
       "        vertical-align: top;\n",
       "    }\n",
       "\n",
       "    .dataframe thead th {\n",
       "        text-align: right;\n",
       "    }\n",
       "</style>\n",
       "<table border=\"1\" class=\"dataframe\">\n",
       "  <thead>\n",
       "    <tr style=\"text-align: right;\">\n",
       "      <th></th>\n",
       "      <th>Not Suspended</th>\n",
       "      <th>Suspended</th>\n",
       "    </tr>\n",
       "  </thead>\n",
       "  <tbody>\n",
       "    <tr>\n",
       "      <th>Biden Hashtags</th>\n",
       "      <td>4295 (95.55%)</td>\n",
       "      <td>200 (4.45%)</td>\n",
       "    </tr>\n",
       "    <tr>\n",
       "      <th>Trump Hashtags</th>\n",
       "      <td>3623 (80.42%)</td>\n",
       "      <td>882 (19.58%)</td>\n",
       "    </tr>\n",
       "  </tbody>\n",
       "</table>\n",
       "</div>"
      ],
      "text/plain": [
       "                Not Suspended     Suspended\n",
       "Biden Hashtags  4295 (95.55%)   200 (4.45%)\n",
       "Trump Hashtags  3623 (80.42%)  882 (19.58%)"
      ]
     },
     "execution_count": 7,
     "metadata": {},
     "output_type": "execute_result"
    }
   ],
   "source": [
    "# Adding percentages to the counts\n",
    "crosstab_percentages = pd.crosstab(data['politics_hashtag'], data['suspended'], normalize='index')\n",
    "\n",
    "# Merging counts and percentages into a single table\n",
    "formatted_crosstab = crosstab_counts.astype(str) + \" (\" + (crosstab_percentages * 100).round(2).astype(str) + \"%)\"\n",
    "formatted_crosstab.index = ['Biden Hashtags', 'Trump Hashtags']\n",
    "formatted_crosstab.columns = ['Not Suspended', 'Suspended']\n",
    "\n",
    "formatted_crosstab"
   ]
  },
  {
   "cell_type": "markdown",
   "metadata": {},
   "source": [
    "* Users with Trump hashtags faced a much higher suspension rate ($19.58\\% $) compared to those with Biden hashtags ($4.45\\%$), highlighting a potential political asymmetry in suspension."
   ]
  },
  {
   "cell_type": "markdown",
   "metadata": {},
   "source": [
    "* We also show the difference in suspension rates in a plot to visualize the situation."
   ]
  },
  {
   "cell_type": "code",
   "execution_count": 8,
   "metadata": {},
   "outputs": [
    {
     "data": {
      "image/png": "[encoded data removed]",
      "text/plain": [
       "<Figure size 1200x600 with 1 Axes>"
      ]
     },
     "metadata": {},
     "output_type": "display_data"
    }
   ],
   "source": [
    "if crosstab_percentages.index.name is not None: # so that it still works if you rerun the code block\n",
    "    crosstab_percentages = crosstab_percentages.reset_index()\n",
    "crosstab_percentages.columns = ['Political Hashtags', 'Not Suspended', 'Suspended']\n",
    "\n",
    "# Stacked horizontal bar chart\n",
    "fig, ax = plt.subplots(figsize=(12, 6))\n",
    "crosstab_percentages.set_index('Political Hashtags').plot.barh(\n",
    "    stacked=True, color=['#d0e8f2', '#8d99ae'], edgecolor='black', ax=ax\n",
    ")\n",
    "ax.set_title(\"Suspension Rates by Political Hashtag\", fontsize=16, weight='bold')\n",
    "ax.set_xlabel(\"Proportion\", fontsize=14)\n",
    "ax.legend(title=\"Suspension Status\", fontsize=12, loc='upper right', bbox_to_anchor=(1.2, 1))\n",
    "ax.set_yticklabels(['Biden Hashtag', 'Trump Hashtag'], fontsize=12)\n",
    "\n",
    "# Labels inside the bars showing the suspension percentages\n",
    "for i, row in crosstab_percentages.iterrows():\n",
    "    ax.text(row['Not Suspended'] / 2, i, f'{row[\"Not Suspended\"]:.1%}', ha='center', va='center', fontsize=11, color='black')\n",
    "    ax.text(row['Not Suspended'] + row['Suspended'] / 2, i, f'{row[\"Suspended\"]:.1%}', ha='center', va='center', fontsize=11, color='black')\n",
    "\n",
    "ax.spines[['top', 'right']].set_visible(False)\n",
    "plt.tight_layout()\n",
    "plt.show()"
   ]
  },
  {
   "cell_type": "markdown",
   "metadata": {},
   "source": [
    "* And we calculate the relative likelihood of suspension."
   ]
  },
  {
   "cell_type": "code",
   "execution_count": 9,
   "metadata": {},
   "outputs": [
    {
     "name": "stdout",
     "output_type": "stream",
     "text": [
      "Likelihood Ratio (Trump/Biden): 4.4\n"
     ]
    }
   ],
   "source": [
    "likelihood = crosstab_counts.loc[1, 1] / crosstab_counts.loc[0, 1] # (1,1): trump-suspension (0,1): biden-suspension\n",
    "\n",
    "print(f\"Likelihood Ratio (Trump/Biden): {likelihood:.1f}\")"
   ]
  },
  {
   "cell_type": "markdown",
   "metadata": {},
   "source": [
    "* We see that accounts that shared *#Trump2020* during the election were approximately $4.4$ times more likely to be suspended than the accounts that shared *#VoteBidenHarris2020*."
   ]
  },
  {
   "cell_type": "markdown",
   "metadata": {},
   "source": [
    "* It would be incorrect and incomplete to showcase this effect of political hashtag used on suspension on Twitter, without seeing the statistical significance of this difference.\n",
    "\n",
    "* To do that we will perform a $\\chi^2$ test on the contingency table.\n",
    "\n",
    "   * **$H_0$:** There is no association between the type of hashtag used (Biden vs. Trump) and suspension status.\n",
    "    \n",
    "   * **$H_1$:** There exists association between the type of hashtag used (Biden vs. Trump) and suspension status."
   ]
  },
  {
   "cell_type": "code",
   "execution_count": 10,
   "metadata": {},
   "outputs": [
    {
     "name": "stdout",
     "output_type": "stream",
     "text": [
      "\n",
      "Chi-squared Test Results:\n",
      "Chi-squared: 485.47\n",
      "p-value: 0.0000\n"
     ]
    }
   ],
   "source": [
    "chi2, p, dof, expected = chi2_contingency(crosstab_counts)\n",
    "\n",
    "print(\"\\nChi-squared Test Results:\")\n",
    "print(f\"Chi-squared: {chi2:.2f}\")\n",
    "print(f\"p-value: {p:.4f}\")"
   ]
  },
  {
   "cell_type": "markdown",
   "metadata": {},
   "source": [
    "* The $Chi-squared$ statistic measures the discrepancy between the observed frequencies in the contingency table and the frequencies expected under the assumption of no association between the variables. A value of $485.47$ reflects a significant deviation from what would be expected if the variables were independent.\n",
    "\n",
    "* As $P-Value < 0.0001$ we can conclude that **there is a statistically significant association between political hashtag usage and suspension** and we accept the $H_1$ Hypothesis stated above."
   ]
  },
  {
   "cell_type": "markdown",
   "metadata": {},
   "source": [
    "## Distributions of Relative Frequency of Low Quality"
   ]
  },
  {
   "cell_type": "markdown",
   "metadata": {},
   "source": [
    "* In this chapter we will analyze how low-quality news sharing differs between the $2$ groups defined by political hashtags (*#Trump2020* or *#VoteBidenHarris2020*).\n",
    "\n",
    "* What want to show **how often different levels of low-quality news sharing occur for each group**.\n",
    "\n",
    "* To do this, we’ll create a smooth curve (called a **Kernel Density Estimate** or **KDE**) which is like a more precise version of a bar chart, but instead of bars, we use a curve.\n",
    "\n",
    "* To measure the quality of news we will, for a start, use the column: `lowqual_pr2019_fc` : the ratings of factcheckers on the quality of news websites used by a user.\n",
    "\n",
    "* But first we must prepare our data."
   ]
  },
  {
   "cell_type": "code",
   "execution_count": 11,
   "metadata": {},
   "outputs": [
    {
     "data": {
      "text/plain": [
       "55"
      ]
     },
     "execution_count": 11,
     "metadata": {},
     "output_type": "execute_result"
    }
   ],
   "source": [
    "data['lowqual_pr2019_fc'].isna().sum()"
   ]
  },
  {
   "cell_type": "markdown",
   "metadata": {},
   "source": [
    "* We see that the column we will use has `NaN` values, which could disrupt calculations, so we remove them and put the result on a termorary `DataFrame`."
   ]
  },
  {
   "cell_type": "code",
   "execution_count": 12,
   "metadata": {},
   "outputs": [],
   "source": [
    "temp_data_fc = data.dropna(subset=['lowqual_pr2019_fc']).copy()"
   ]
  },
  {
   "cell_type": "markdown",
   "metadata": {},
   "source": [
    "* After droping the `NaN`s we use standardize the column using `zscore`. $z = \\frac{x - \\mu}{\\sigma}$ ($ z $: The z-score of the data point, $ x $: The individual data point, $ \\mu $: The mean of the data, $ \\sigma $: The standard deviation of the data)\n",
    "\n",
    "* This will make the data more comparable between the $2$ groups.\n",
    "\n",
    "* The z-score indicates how many standard deviations a data point is from the mean. For example $-1$ would mean 1 standard deviation below the mean.\n",
    "\n",
    "* In our case :\n",
    "    * Negative $z$-scores mean \"higher quality news\" (below the mean for low-quality sharing).\n",
    "    * A $z$-score of $0$ means \"medium quality news\" (the mean for low-quality sharing).\n",
    "    * Positive $z$-scores mean \"lower quality news\" (above the mean for low-quality sharing).\n"
   ]
  },
  {
   "cell_type": "code",
   "execution_count": 13,
   "metadata": {},
   "outputs": [],
   "source": [
    "temp_data_fc['lowqual_pr2019_fc_z'] = zscore(temp_data_fc['lowqual_pr2019_fc'])"
   ]
  },
  {
   "cell_type": "markdown",
   "metadata": {},
   "source": [
    "* Now our data is ready.\n",
    "\n",
    "* So we move onto ploting the Relative Frequency of Low Quality News Sharing in the two groups.\n",
    "\n",
    "* We use **Kernel Density Estimation (KDE)** to display the distribution of low-quality sharing scores (z-scores) for two groups: Biden and Trump hashtags. The plot shows **how common each score is in each group**."
   ]
  },
  {
   "cell_type": "code",
   "execution_count": 14,
   "metadata": {},
   "outputs": [
    {
     "data": {
      "image/png": "[encoded data removed]",
      "text/plain": [
       "<Figure size 800x500 with 1 Axes>"
      ]
     },
     "metadata": {},
     "output_type": "display_data"
    }
   ],
   "source": [
    "plt.figure(figsize=(8, 5))\n",
    "\n",
    "sns.kdeplot(\n",
    "    data=temp_data_fc,\n",
    "    x=\"lowqual_pr2019_fc_z\",\n",
    "    hue=\"politics_hashtag\",\n",
    "    fill=True,\n",
    "    alpha=0.35,\n",
    "    palette={1: '#e52853', 0: '#3241d9'}\n",
    ")\n",
    "plt.legend(\n",
    "    title=\"People who shared\",\n",
    "    loc=\"upper right\",\n",
    "    frameon=True,\n",
    "    edgecolor=\"black\",\n",
    "    labels=[\"Trump hashtags\", \"Biden hashtags\"]  \n",
    ")\n",
    "\n",
    "plt.title(\"Distribution of Low-Quality News Sharing by Political Hashtags\")\n",
    "plt.xlabel(\"Low-quality news sharing\")\n",
    "plt.ylabel(\"Frequency\")\n",
    "plt.tight_layout()\n",
    "plt.show()"
   ]
  },
  {
   "cell_type": "markdown",
   "metadata": {},
   "source": [
    "* Trump's group's distribution peaks sharply in higher scores ($= 1$), suggesting that individuals associated with Trump hashtags are more likely to share low-quality news compared to the Biden hashtag group, whose distribution peaks around lower scores ($= -1$).\n",
    "\n",
    "* Its important to note that we have very distinct peaks with minimal overlap between the two distributions.\n",
    "\n",
    "* This means that there is significant behavioral difference in news-sharing tendencies between the two political groups.\n",
    "\n",
    "* The results seem to be clear on that the Trump hashtag group shares more low - quality news websites (rated by factcheckers).\n",
    "\n",
    "* But what if fact-checkers had a *\"liberal bias\"* and the quality ratings of the news websites were biased ?\n",
    "\n",
    "* To make sure our results are unbiased we will perform the same exact analysis on another column named `lowqual_pr2019_crowd` : the ratings of laypeople on the quality of news websites used by a user (collected from $970$ U.S. laypeople, \"quota-matched\" for demographics, and averaged across Democrats and Republicans for balance)."
   ]
  },
  {
   "cell_type": "code",
   "execution_count": 15,
   "metadata": {},
   "outputs": [
    {
     "data": {
      "text/plain": [
       "55"
      ]
     },
     "execution_count": 15,
     "metadata": {},
     "output_type": "execute_result"
    }
   ],
   "source": [
    "data['lowqual_pr2019_crowd'].isna().sum()"
   ]
  },
  {
   "cell_type": "markdown",
   "metadata": {},
   "source": [
    "* We see again that we have `NaN` values in the column we will use. We check if these `NaN`s correspond to the same lines that had `NaN` values in the previous column we used in our analysis."
   ]
  },
  {
   "cell_type": "code",
   "execution_count": 16,
   "metadata": {},
   "outputs": [
    {
     "data": {
      "text/plain": [
       "True"
      ]
     },
     "execution_count": 16,
     "metadata": {},
     "output_type": "execute_result"
    }
   ],
   "source": [
    "(data['lowqual_pr2019_fc'].isnull() == data['lowqual_pr2019_crowd'].isnull()).all()"
   ]
  },
  {
   "cell_type": "markdown",
   "metadata": {},
   "source": [
    "* Indeed the two columns have `NaN` values on the same rows.\n",
    "\n",
    "* Again we remove the `NaN` values from our column."
   ]
  },
  {
   "cell_type": "code",
   "execution_count": 17,
   "metadata": {},
   "outputs": [],
   "source": [
    "temp_data_crowd = data.dropna(subset=['lowqual_pr2019_crowd']).copy()"
   ]
  },
  {
   "cell_type": "markdown",
   "metadata": {},
   "source": [
    "* And we again use $z$-scores to standardize our data of low - quality ratings."
   ]
  },
  {
   "cell_type": "code",
   "execution_count": 18,
   "metadata": {},
   "outputs": [],
   "source": [
    "temp_data_crowd['lowqual_pr2019_crowd_z'] = zscore(temp_data_crowd['lowqual_pr2019_crowd'])"
   ]
  },
  {
   "cell_type": "markdown",
   "metadata": {},
   "source": [
    "* Finally we create the KDE plot again, but this time using the laypeople ratings of low - quality."
   ]
  },
  {
   "cell_type": "code",
   "execution_count": 19,
   "metadata": {},
   "outputs": [
    {
     "data": {
      "image/png": "[encoded data removed]",
      "text/plain": [
       "<Figure size 800x500 with 1 Axes>"
      ]
     },
     "metadata": {},
     "output_type": "display_data"
    }
   ],
   "source": [
    "plt.figure(figsize=(8, 5))\n",
    "\n",
    "sns.kdeplot(\n",
    "    data=temp_data_crowd,\n",
    "    x=\"lowqual_pr2019_crowd_z\",\n",
    "    hue=\"politics_hashtag\",\n",
    "    fill=True, \n",
    "    alpha=0.35,\n",
    "    palette={0: '#3241d9', 1: '#e52853'}\n",
    ")\n",
    "plt.legend(\n",
    "    title=\"People who shared\",\n",
    "    loc=\"upper right\",\n",
    "    frameon=True,\n",
    "    edgecolor=\"black\",\n",
    "    labels=[\"Trump hashtags\", \"Biden hashtags\"],\n",
    ")\n",
    "\n",
    "plt.title(\"Distribution of Low-Quality News Sharing by Political Hashtag\")\n",
    "plt.xlabel(\"Low-Quality News Sharing\")\n",
    "plt.ylabel(\"Frequency\")\n",
    "plt.tight_layout()\n",
    "plt.show()"
   ]
  },
  {
   "cell_type": "markdown",
   "metadata": {},
   "source": [
    "* We see that our results are very similar, so fact-checkers were not biased.\n",
    "\n",
    "* Trump supporters consistently have higher standardized scores for low-quality news sharing compared to Biden supporters, as we have seen in both distributions.\n",
    "\n",
    "* The crowd-sourced scores reveal slightly more overlap between the groups and a slightly less distinct peak for Trump supporters at low-quality news sharing. However the peaks are still clearly distinct.\n",
    "\n",
    "* **Both methods confirm a similar overall pattern: Trump supporters share low-quality news more frequently than Biden supporters.**"
   ]
  },
  {
   "cell_type": "markdown",
   "metadata": {},
   "source": [
    "## Low-quality News Sharing on Twitter"
   ]
  },
  {
   "cell_type": "markdown",
   "metadata": {},
   "source": [
    "* We will now build upon the previous visual exploration of low-quality news sharing behavior.\n",
    "\n",
    "* But now we will delve into a quantitative analysis, letting numbers tell us the story.\n",
    "\n",
    "* We aim to answer the question: \"Do Trump and Biden supporters exhibit **statistically significant differences** of behaviors in sharing low-quality news on Twitter?\" by these statistical methods:\n",
    "    \n",
    "    * Independent samples t-tests to determine statistical differences.\n",
    " \n",
    "    * Calculating effect sizes using Cohen's $d$ and Hedges' $g$ to measure the magnitude of these differences. \n",
    "\n",
    "* This time we will analyze $6$ features representing different assessments of low-quality news and not only $2$ like in the previous analysis. The first $2$ variables we will use are the same as before.\n",
    "\n",
    "  1) `lowqual_pr2019_fc`\n",
    "  2) `lowqual_pr2019_crowd`\n",
    "  3) `lowqual_afm`: ratings for 283 news sites provided by [Ad Fontes Media, Inc](https://adfontesmedia.com/).\n",
    "  4) `lowqual_mbfc`: ratings for 3,216 sites from [Media Bias/Fact Check](https://mediabiasfactcheck.com/).\n",
    "  5) `lowqual_lasser2019`: ratings for 4,767 sites derived from Lasser et al.'s academic work. (Original source: Lasser, J., et al. *\"Social media sharing of low-quality news sources by political elites\"* ([DOI : https://doi.org/10.1093/pnasnexus/pgac186](https://doi.org/10.1093/pnasnexus/pgac186))\n",
    "  7) `lowqual_pr2019_crowdrep`: ratings specifically from Republican participants in the crowd-sourcing study of 971 participants.\n"
   ]
  },
  {
   "cell_type": "code",
   "execution_count": 20,
   "metadata": {},
   "outputs": [],
   "source": [
    "low_q_columns = [\n",
    "    'lowqual_pr2019_fc',\n",
    "    'lowqual_afm',\n",
    "    'lowqual_mbfc',\n",
    "    'lowqual_lasser2019',\n",
    "    'lowqual_pr2019_crowd',\n",
    "    'lowqual_pr2019_crowdrep'\n",
    "]"
   ]
  },
  {
   "cell_type": "markdown",
   "metadata": {},
   "source": [
    "* We define Cohen's $d$ and Hedges' $g$ in functions since they don't exist in libraries and we will be using them many times."
   ]
  },
  {
   "cell_type": "markdown",
   "metadata": {},
   "source": [
    "### Cohen's $d$\n",
    "\n",
    "* Cohen's $d$ is a widely used measure of effect size in statistics.\n",
    "\n",
    "* It is calculated as the difference between the two group means, divided by their pooled standard deviation (which combines the variances of the two groups, weighted by their sample sizes)."
   ]
  },
  {
   "cell_type": "code",
   "execution_count": 21,
   "metadata": {},
   "outputs": [],
   "source": [
    "def calculate_cohen_d(x1, x2):\n",
    "    n1, n2 = len(x1), len(x2)\n",
    "    s1, s2 = np.var(x1, ddof=1), np.var(x2, ddof=1)  # Variance\n",
    "    pooled_std = np.sqrt(((n1 - 1) * s1 + (n2 - 1) * s2) / (n1 + n2 - 2)) # Pooled variance\n",
    "    if pooled_std == 0:  # Avoid division by zero\n",
    "        return 0\n",
    "    return (np.mean(x1) - np.mean(x2)) / pooled_std"
   ]
  },
  {
   "cell_type": "markdown",
   "metadata": {},
   "source": [
    "* $d = [0, 2]$\n",
    "\n",
    "* A small effect starts at $d = 0.20$ and large effects start at $d = 0.80$ which shows important distinctions between the groups.\n",
    "\n",
    "* We define a function that will interpret the Cohen's $d$ result according to the widely accepted limits for this purpose."
   ]
  },
  {
   "cell_type": "code",
   "execution_count": 22,
   "metadata": {},
   "outputs": [],
   "source": [
    "def interpret_cohens_d(d):\n",
    "    if abs(d) < 0.01:\n",
    "        return \"Very small\"\n",
    "    elif abs(d) < 0.20:\n",
    "        return \"Small\"\n",
    "    elif abs(d) < 0.50:\n",
    "        return \"Medium\"\n",
    "    elif abs(d) < 0.80:\n",
    "        return \"Large\"\n",
    "    elif abs(d) < 1.20:\n",
    "        return \"Very large\"\n",
    "    else:\n",
    "        return \"Huge\""
   ]
  },
  {
   "cell_type": "markdown",
   "metadata": {},
   "source": [
    "### Hedge's $G$"
   ]
  },
  {
   "cell_type": "markdown",
   "metadata": {},
   "source": [
    "* While Cohen's $d$ is effective, it may be biased when sample sizes are small. Hedges' $g$ addresses this issue by applying a correction factor."
   ]
  },
  {
   "cell_type": "code",
   "execution_count": 23,
   "metadata": {},
   "outputs": [],
   "source": [
    "def calculate_hedges_g(d, n1, n2):\n",
    "    correction = 1 - (3 / (4 * (n1 + n2) - 9))\n",
    "    return d * correction"
   ]
  },
  {
   "cell_type": "markdown",
   "metadata": {},
   "source": [
    "### Analysis"
   ]
  },
  {
   "cell_type": "markdown",
   "metadata": {},
   "source": [
    "* We create a dictionary that will store our results"
   ]
  },
  {
   "cell_type": "code",
   "execution_count": 24,
   "metadata": {},
   "outputs": [],
   "source": [
    "results = {}"
   ]
  },
  {
   "cell_type": "markdown",
   "metadata": {},
   "source": [
    "* We want to run t-tests, Cohen's $d$ and Hedges' $G$ on all of our $6$ features/columns seperately so we use a for loop.\n",
    "\n",
    "* To perform valid statistical comparisons, we need to clean the data from `NaNs` and split it into groups based on `politics_hashtag`."
   ]
  },
  {
   "cell_type": "code",
   "execution_count": 25,
   "metadata": {},
   "outputs": [
    {
     "data": {
      "text/html": [
       "<div>\n",
       "<style scoped>\n",
       "    .dataframe tbody tr th:only-of-type {\n",
       "        vertical-align: middle;\n",
       "    }\n",
       "\n",
       "    .dataframe tbody tr th {\n",
       "        vertical-align: top;\n",
       "    }\n",
       "\n",
       "    .dataframe thead th {\n",
       "        text-align: right;\n",
       "    }\n",
       "</style>\n",
       "<table border=\"1\" class=\"dataframe\">\n",
       "  <thead>\n",
       "    <tr style=\"text-align: right;\">\n",
       "      <th></th>\n",
       "      <th>T-statistic</th>\n",
       "      <th>P-value</th>\n",
       "      <th>Cohen's d</th>\n",
       "      <th>Effect Size (d)</th>\n",
       "      <th>Hedges' g</th>\n",
       "    </tr>\n",
       "  </thead>\n",
       "  <tbody>\n",
       "    <tr>\n",
       "      <th>lowqual_pr2019_fc</th>\n",
       "      <td>119.25</td>\n",
       "      <td>0.0000</td>\n",
       "      <td>2.52</td>\n",
       "      <td>Huge</td>\n",
       "      <td>2.52</td>\n",
       "    </tr>\n",
       "    <tr>\n",
       "      <th>lowqual_afm</th>\n",
       "      <td>102.71</td>\n",
       "      <td>0.0000</td>\n",
       "      <td>2.16</td>\n",
       "      <td>Huge</td>\n",
       "      <td>2.16</td>\n",
       "    </tr>\n",
       "    <tr>\n",
       "      <th>lowqual_mbfc</th>\n",
       "      <td>97.58</td>\n",
       "      <td>0.0000</td>\n",
       "      <td>2.06</td>\n",
       "      <td>Huge</td>\n",
       "      <td>2.06</td>\n",
       "    </tr>\n",
       "    <tr>\n",
       "      <th>lowqual_lasser2019</th>\n",
       "      <td>102.68</td>\n",
       "      <td>0.0000</td>\n",
       "      <td>2.16</td>\n",
       "      <td>Huge</td>\n",
       "      <td>2.16</td>\n",
       "    </tr>\n",
       "    <tr>\n",
       "      <th>lowqual_pr2019_crowd</th>\n",
       "      <td>102.50</td>\n",
       "      <td>0.0000</td>\n",
       "      <td>2.17</td>\n",
       "      <td>Huge</td>\n",
       "      <td>2.17</td>\n",
       "    </tr>\n",
       "    <tr>\n",
       "      <th>lowqual_pr2019_crowdrep</th>\n",
       "      <td>61.08</td>\n",
       "      <td>0.0000</td>\n",
       "      <td>1.29</td>\n",
       "      <td>Huge</td>\n",
       "      <td>1.29</td>\n",
       "    </tr>\n",
       "  </tbody>\n",
       "</table>\n",
       "</div>"
      ],
      "text/plain": [
       "                        T-statistic P-value Cohen's d Effect Size (d)  \\\n",
       "lowqual_pr2019_fc            119.25  0.0000      2.52            Huge   \n",
       "lowqual_afm                  102.71  0.0000      2.16            Huge   \n",
       "lowqual_mbfc                  97.58  0.0000      2.06            Huge   \n",
       "lowqual_lasser2019           102.68  0.0000      2.16            Huge   \n",
       "lowqual_pr2019_crowd         102.50  0.0000      2.17            Huge   \n",
       "lowqual_pr2019_crowdrep       61.08  0.0000      1.29            Huge   \n",
       "\n",
       "                        Hedges' g  \n",
       "lowqual_pr2019_fc            2.52  \n",
       "lowqual_afm                  2.16  \n",
       "lowqual_mbfc                 2.06  \n",
       "lowqual_lasser2019           2.16  \n",
       "lowqual_pr2019_crowd         2.17  \n",
       "lowqual_pr2019_crowdrep      1.29  "
      ]
     },
     "execution_count": 25,
     "metadata": {},
     "output_type": "execute_result"
    }
   ],
   "source": [
    "for col in low_q_columns:\n",
    "    # Drop NaNs of 'politics_hashtag'\n",
    "    clean_data = data.dropna(subset=[col, 'politics_hashtag'])\n",
    "    \n",
    "    # Groups based on 'politics_hashtag'\n",
    "    group_biden = clean_data[clean_data['politics_hashtag'] == 0][col]\n",
    "    group_trump = clean_data[clean_data['politics_hashtag'] == 1][col]\n",
    "    \n",
    "    # t-test\n",
    "    t_stat, p_value = ttest_ind(group_trump, group_biden, equal_var=False)  # Reversed order for t-test\n",
    "    \n",
    "    # Cohen's d and Hedges' g\n",
    "    d = calculate_cohen_d(group_trump, group_biden)\n",
    "    g = calculate_hedges_g(d, len(group_trump), len(group_biden))\n",
    "    \n",
    "    results[col] = {\n",
    "        'T-statistic': f\"{t_stat:.2f}\",\n",
    "        'P-value': f\"{p_value:.4f}\",\n",
    "        \"Cohen's d\": f\"{d:.2f}\",\n",
    "        \"Effect Size (d)\": interpret_cohens_d(d),\n",
    "        \"Hedges' g\": f\"{g:.2f}\"\n",
    "    }\n",
    "\n",
    "results_df = pd.DataFrame(results).T # for better readability\n",
    "results_df"
   ]
  },
  {
   "cell_type": "markdown",
   "metadata": {},
   "source": [
    "* The T-statistic values are high across all features, indicating a substantial difference in means between the two groups.\n",
    "\n",
    "* All P-values are $0.0000$, which confirms that the observed differences are statistically significant, so our results did not occur by chance.\n",
    "\n",
    "* The Cohen's $d$ values are all greater than $2.0$ for most features, indicating a huge effect size. For `lowqual_pr2019_crowdrep`, $d = 1.29$ , which is still considered a huge effect but relatively smaller compared to other features.\n",
    "\n",
    "* Hedges' $g$ values are equal to Cohen's $d$.\n",
    "\n",
    "The results consistently show **significant and statistically important differences in low-quality news sharing behavior, with the Trump hashtag group sharing more low-quality news**"
   ]
  },
  {
   "cell_type": "markdown",
   "metadata": {},
   "source": [
    "# Sharing Lower-quality News Sources and Conservative Ideology"
   ]
  },
  {
   "cell_type": "markdown",
   "metadata": {},
   "source": [
    "* Let's dive a bit deeper building on top of the previous question.\n",
    "\n",
    "* We again will again examine the relationships between low-quality news engagement and political ideology indicators.\n",
    "\n",
    "* But this time we will use in addition to `politics_hashtag`, other political ideology measures, including `politics_followed`, `politics_sites1`, and `politics_sites2`.\n",
    "\n",
    "* So let's keep these variables in a group called `political_columns`."
   ]
  },
  {
   "cell_type": "code",
   "execution_count": 26,
   "metadata": {},
   "outputs": [],
   "source": [
    "political_columns = [\n",
    "    'politics_followed',\n",
    "    'politics_hashtag',\n",
    "    'politics_sites1',\n",
    "    'politics_sites2'\n",
    "]"
   ]
  },
  {
   "cell_type": "markdown",
   "metadata": {},
   "source": [
    "* The `politics_followed` column:\n",
    "  \n",
    "    *  Works by looking at the Twitter accounts people choose to follow.\n",
    "      \n",
    "    *  Since people often follow others who share their beliefs (a phenomenon called *Ideological Homophily*), it uses this pattern to estimate where someone falls on a scale from liberal to conservative based on who he / she follows.\n",
    " \n",
    "    *  The model of this estimation was derived from the study *\"Tweeting from left to right: Is online political communication more than an echo chamber?\"* by Barberá, P.,et al. ([DOI: https://doi.org/10.1177/0956797615594620](https://doi.org/10.1177/0956797615594620))\n",
    "\n",
    "* The `politics_sites1` and `politics_sites2` columns:\n",
    "  \n",
    "    * Works by looking at users' shared URLs.\n",
    "    \n",
    "    * Assigns users an ideological score (extreme left to extreme right) based on the URLs they shared, which reflect the political leanings of news sources (liberal or conservative). \n",
    "\n",
    "    * The models of these estimations were derived from the studies *\"Fake news on Twitter during the 2016 U.S. presidential election\"* ([DOI: 10.1126/science.aau2706](https://www.science.org/doi/10.1126/science.aau2706)) and *\"News Sharing on Social Media\"* ([DOI: 10.31219/osf.io/ch8gj](https://osf.io/preprints/osf/ch8gj))* accordingly."
   ]
  },
  {
   "cell_type": "markdown",
   "metadata": {},
   "source": [
    "* For low quality news variables we will use the `low_q_columns` we used in the previous chapter."
   ]
  },
  {
   "cell_type": "markdown",
   "metadata": {},
   "source": [
    "* Since we want to measure the relationship strength we will use the **Pearson Correlation Coefficient $r$**, for all pairwise relationships between the variables we have for low quality news and political orientation."
   ]
  },
  {
   "cell_type": "code",
   "execution_count": 27,
   "metadata": {},
   "outputs": [
    {
     "data": {
      "text/html": [
       "<div>\n",
       "<style scoped>\n",
       "    .dataframe tbody tr th:only-of-type {\n",
       "        vertical-align: middle;\n",
       "    }\n",
       "\n",
       "    .dataframe tbody tr th {\n",
       "        vertical-align: top;\n",
       "    }\n",
       "\n",
       "    .dataframe thead th {\n",
       "        text-align: right;\n",
       "    }\n",
       "</style>\n",
       "<table border=\"1\" class=\"dataframe\">\n",
       "  <thead>\n",
       "    <tr style=\"text-align: right;\">\n",
       "      <th></th>\n",
       "      <th>lowqual_pr2019_fc</th>\n",
       "      <th>lowqual_afm</th>\n",
       "      <th>lowqual_mbfc</th>\n",
       "      <th>lowqual_lasser2019</th>\n",
       "      <th>lowqual_pr2019_crowd</th>\n",
       "      <th>lowqual_pr2019_crowdrep</th>\n",
       "      <th>politics_followed</th>\n",
       "      <th>politics_hashtag</th>\n",
       "      <th>politics_sites1</th>\n",
       "      <th>politics_sites2</th>\n",
       "    </tr>\n",
       "  </thead>\n",
       "  <tbody>\n",
       "    <tr>\n",
       "      <th>lowqual_pr2019_fc</th>\n",
       "      <td>1.000000</td>\n",
       "      <td>0.881299</td>\n",
       "      <td>0.755974</td>\n",
       "      <td>0.859959</td>\n",
       "      <td>0.964348</td>\n",
       "      <td>0.789817</td>\n",
       "      <td>0.809501</td>\n",
       "      <td>0.783463</td>\n",
       "      <td>0.876237</td>\n",
       "      <td>0.854197</td>\n",
       "    </tr>\n",
       "    <tr>\n",
       "      <th>lowqual_afm</th>\n",
       "      <td>0.881299</td>\n",
       "      <td>1.000000</td>\n",
       "      <td>0.784055</td>\n",
       "      <td>0.900902</td>\n",
       "      <td>0.854943</td>\n",
       "      <td>0.695761</td>\n",
       "      <td>0.768887</td>\n",
       "      <td>0.734562</td>\n",
       "      <td>0.845285</td>\n",
       "      <td>0.833632</td>\n",
       "    </tr>\n",
       "    <tr>\n",
       "      <th>lowqual_mbfc</th>\n",
       "      <td>0.755974</td>\n",
       "      <td>0.784055</td>\n",
       "      <td>1.000000</td>\n",
       "      <td>0.803178</td>\n",
       "      <td>0.713212</td>\n",
       "      <td>0.547665</td>\n",
       "      <td>0.748146</td>\n",
       "      <td>0.717101</td>\n",
       "      <td>0.774779</td>\n",
       "      <td>0.774266</td>\n",
       "    </tr>\n",
       "    <tr>\n",
       "      <th>lowqual_lasser2019</th>\n",
       "      <td>0.859959</td>\n",
       "      <td>0.900902</td>\n",
       "      <td>0.803178</td>\n",
       "      <td>1.000000</td>\n",
       "      <td>0.840018</td>\n",
       "      <td>0.671775</td>\n",
       "      <td>0.777250</td>\n",
       "      <td>0.734398</td>\n",
       "      <td>0.835576</td>\n",
       "      <td>0.851794</td>\n",
       "    </tr>\n",
       "    <tr>\n",
       "      <th>lowqual_pr2019_crowd</th>\n",
       "      <td>0.964348</td>\n",
       "      <td>0.854943</td>\n",
       "      <td>0.713212</td>\n",
       "      <td>0.840018</td>\n",
       "      <td>1.000000</td>\n",
       "      <td>0.886781</td>\n",
       "      <td>0.754001</td>\n",
       "      <td>0.734856</td>\n",
       "      <td>0.811904</td>\n",
       "      <td>0.784861</td>\n",
       "    </tr>\n",
       "    <tr>\n",
       "      <th>lowqual_pr2019_crowdrep</th>\n",
       "      <td>0.789817</td>\n",
       "      <td>0.695761</td>\n",
       "      <td>0.547665</td>\n",
       "      <td>0.671775</td>\n",
       "      <td>0.886781</td>\n",
       "      <td>1.000000</td>\n",
       "      <td>0.540993</td>\n",
       "      <td>0.542505</td>\n",
       "      <td>0.576336</td>\n",
       "      <td>0.552613</td>\n",
       "    </tr>\n",
       "    <tr>\n",
       "      <th>politics_followed</th>\n",
       "      <td>0.809501</td>\n",
       "      <td>0.768887</td>\n",
       "      <td>0.748146</td>\n",
       "      <td>0.777250</td>\n",
       "      <td>0.754001</td>\n",
       "      <td>0.540993</td>\n",
       "      <td>1.000000</td>\n",
       "      <td>0.859692</td>\n",
       "      <td>0.878668</td>\n",
       "      <td>0.860106</td>\n",
       "    </tr>\n",
       "    <tr>\n",
       "      <th>politics_hashtag</th>\n",
       "      <td>0.783463</td>\n",
       "      <td>0.734562</td>\n",
       "      <td>0.717101</td>\n",
       "      <td>0.734398</td>\n",
       "      <td>0.734856</td>\n",
       "      <td>0.542505</td>\n",
       "      <td>0.859692</td>\n",
       "      <td>1.000000</td>\n",
       "      <td>0.830136</td>\n",
       "      <td>0.812912</td>\n",
       "    </tr>\n",
       "    <tr>\n",
       "      <th>politics_sites1</th>\n",
       "      <td>0.876237</td>\n",
       "      <td>0.845285</td>\n",
       "      <td>0.774779</td>\n",
       "      <td>0.835576</td>\n",
       "      <td>0.811904</td>\n",
       "      <td>0.576336</td>\n",
       "      <td>0.878668</td>\n",
       "      <td>0.830136</td>\n",
       "      <td>1.000000</td>\n",
       "      <td>0.933718</td>\n",
       "    </tr>\n",
       "    <tr>\n",
       "      <th>politics_sites2</th>\n",
       "      <td>0.854197</td>\n",
       "      <td>0.833632</td>\n",
       "      <td>0.774266</td>\n",
       "      <td>0.851794</td>\n",
       "      <td>0.784861</td>\n",
       "      <td>0.552613</td>\n",
       "      <td>0.860106</td>\n",
       "      <td>0.812912</td>\n",
       "      <td>0.933718</td>\n",
       "      <td>1.000000</td>\n",
       "    </tr>\n",
       "  </tbody>\n",
       "</table>\n",
       "</div>"
      ],
      "text/plain": [
       "                         lowqual_pr2019_fc  lowqual_afm  lowqual_mbfc  \\\n",
       "lowqual_pr2019_fc                 1.000000     0.881299      0.755974   \n",
       "lowqual_afm                       0.881299     1.000000      0.784055   \n",
       "lowqual_mbfc                      0.755974     0.784055      1.000000   \n",
       "lowqual_lasser2019                0.859959     0.900902      0.803178   \n",
       "lowqual_pr2019_crowd              0.964348     0.854943      0.713212   \n",
       "lowqual_pr2019_crowdrep           0.789817     0.695761      0.547665   \n",
       "politics_followed                 0.809501     0.768887      0.748146   \n",
       "politics_hashtag                  0.783463     0.734562      0.717101   \n",
       "politics_sites1                   0.876237     0.845285      0.774779   \n",
       "politics_sites2                   0.854197     0.833632      0.774266   \n",
       "\n",
       "                         lowqual_lasser2019  lowqual_pr2019_crowd  \\\n",
       "lowqual_pr2019_fc                  0.859959              0.964348   \n",
       "lowqual_afm                        0.900902              0.854943   \n",
       "lowqual_mbfc                       0.803178              0.713212   \n",
       "lowqual_lasser2019                 1.000000              0.840018   \n",
       "lowqual_pr2019_crowd               0.840018              1.000000   \n",
       "lowqual_pr2019_crowdrep            0.671775              0.886781   \n",
       "politics_followed                  0.777250              0.754001   \n",
       "politics_hashtag                   0.734398              0.734856   \n",
       "politics_sites1                    0.835576              0.811904   \n",
       "politics_sites2                    0.851794              0.784861   \n",
       "\n",
       "                         lowqual_pr2019_crowdrep  politics_followed  \\\n",
       "lowqual_pr2019_fc                       0.789817           0.809501   \n",
       "lowqual_afm                             0.695761           0.768887   \n",
       "lowqual_mbfc                            0.547665           0.748146   \n",
       "lowqual_lasser2019                      0.671775           0.777250   \n",
       "lowqual_pr2019_crowd                    0.886781           0.754001   \n",
       "lowqual_pr2019_crowdrep                 1.000000           0.540993   \n",
       "politics_followed                       0.540993           1.000000   \n",
       "politics_hashtag                        0.542505           0.859692   \n",
       "politics_sites1                         0.576336           0.878668   \n",
       "politics_sites2                         0.552613           0.860106   \n",
       "\n",
       "                         politics_hashtag  politics_sites1  politics_sites2  \n",
       "lowqual_pr2019_fc                0.783463         0.876237         0.854197  \n",
       "lowqual_afm                      0.734562         0.845285         0.833632  \n",
       "lowqual_mbfc                     0.717101         0.774779         0.774266  \n",
       "lowqual_lasser2019               0.734398         0.835576         0.851794  \n",
       "lowqual_pr2019_crowd             0.734856         0.811904         0.784861  \n",
       "lowqual_pr2019_crowdrep          0.542505         0.576336         0.552613  \n",
       "politics_followed                0.859692         0.878668         0.860106  \n",
       "politics_hashtag                 1.000000         0.830136         0.812912  \n",
       "politics_sites1                  0.830136         1.000000         0.933718  \n",
       "politics_sites2                  0.812912         0.933718         1.000000  "
      ]
     },
     "execution_count": 27,
     "metadata": {},
     "output_type": "execute_result"
    }
   ],
   "source": [
    "correlation_data = data[low_q_columns + political_columns]\n",
    "correlation_matrix = correlation_data.corr()\n",
    "correlation_matrix"
   ]
  },
  {
   "cell_type": "markdown",
   "metadata": {},
   "source": [
    "* To understand the pairwise correlations we will visualize them in a heatmap using light green for low correlation and dark blue for high correlation."
   ]
  },
  {
   "cell_type": "code",
   "execution_count": 28,
   "metadata": {},
   "outputs": [
    {
     "data": {
      "image/png": "[encoded data removed]",
      "text/plain": [
       "<Figure size 1000x800 with 2 Axes>"
      ]
     },
     "metadata": {},
     "output_type": "display_data"
    }
   ],
   "source": [
    "colors = [\"#A4CC90\", \"#38A3A5\", \"#22577A\", \"#0B1D51\"] # From light green to dark blue palette\n",
    "custom_cmap = LinearSegmentedColormap.from_list(\"green_blue\", colors) # in gradient\n",
    "\n",
    "plt.figure(figsize=(10, 8))\n",
    "sns.heatmap(\n",
    "    correlation_matrix.loc[low_q_columns, political_columns],\n",
    "    annot=True,\n",
    "    fmt=\".2f\",\n",
    "    cmap=custom_cmap,  # Use the custom pallete\n",
    "    cbar=True,\n",
    "    linewidths=0.5\n",
    ")\n",
    "plt.title(\"Pairwise Correlations : Low-Quality News Sharing - Political Orientation\", fontsize=14)\n",
    "plt.xlabel(\"Political Measures\", fontsize=12)\n",
    "plt.ylabel(\"Low-Quality News Sources\", fontsize=12)\n",
    "plt.xticks(rotation=45, ha=\"right\", fontsize=10)\n",
    "plt.yticks(fontsize=10)\n",
    "plt.tight_layout()\n",
    "plt.show()"
   ]
  },
  {
   "cell_type": "markdown",
   "metadata": {},
   "source": [
    "* We generally notice strong correlations between politics and low-quality news with values like $r = 0.72 - 0.88$ appearing a lot in the pairwise correlations.\n",
    "    * This is an indicator that republicans (high values of politics variables) are more likely to engage with low-quality news sources (high values of low - quality news variables).\n",
    "      \n",
    "    * Liberals on the other hand seem to be less associated with such engagement.\n",
    "\n",
    "* However the last row of our heatmap (`lowqual_pr2019_crowdrep`) shows that republican participants’ trustworthiness ratings deviate from broader political behaviors, since we see  $r = 0.54 - 0.58$ - much lower than the general picture.\n",
    "    * This suggests that Republicans may not always recognize news sources identified by professionals or the general public as \"fake news\" as being \"fake news\".\n",
    "    \n",
    "    * This can contribute to their higher likelihood of posting, reposting, or sharing such unreliable news sources, which was higher than liberals as we saw before."
   ]
  },
  {
   "cell_type": "markdown",
   "metadata": {},
   "source": [
    "## News Sharing Can Help Explain Suspension, Using Single Predictors"
   ]
  },
  {
   "cell_type": "markdown",
   "metadata": {},
   "source": [
    "* Following the pairwise correlation analysis, we aim to **predict** whether a user was **suspended** using as a set of predictors political behaviors and low-quality news engagement.\n",
    "\n",
    "* Suspension is a binary outcome ($0 / 1$): suspended or not suspended\n",
    "\n",
    "* For this reason we will use Probit as our Regression Model to make our predictions\n",
    "\n",
    "* We will apply Probit Regression $9$ times: once for each predictor.\n",
    "\n",
    "* To evaluate the predictions of each regression using its Area Under the Curve (AUC) which measures how well a model distinguishes between classes, with high values meaning high quality predictions. Also we will run each prediction $100$ times to get Confidence Intervals."
   ]
  },
  {
   "cell_type": "markdown",
   "metadata": {},
   "source": [
    "* We start by defining predictors and the target variable."
   ]
  },
  {
   "cell_type": "code",
   "execution_count": 29,
   "metadata": {},
   "outputs": [],
   "source": [
    "predictors = [\n",
    "    'politics_hashtag', 'politics_sites1', 'politics_sites2', 'politics_followed',\n",
    "    'lowqual_afm', 'lowqual_mbfc', 'lowqual_lasser2019', 'lowqual_pr2019_fc', 'lowqual_pr2019_crowd'\n",
    "]\n",
    "target = 'suspended'"
   ]
  },
  {
   "cell_type": "markdown",
   "metadata": {},
   "source": [
    "* Some more preparations: setting up a seed we will use later to ensure reproducibility and initializing a dataframe to store the results."
   ]
  },
  {
   "cell_type": "code",
   "execution_count": 30,
   "metadata": {},
   "outputs": [],
   "source": [
    "np.random.seed(10)\n",
    "results = []"
   ]
  },
  {
   "cell_type": "markdown",
   "metadata": {},
   "source": [
    "* For each predictor:\n",
    "  \n",
    "    1. We remove `NaN` values on the predictor column that would disrupt the model.\n",
    "    \n",
    "    2. $100$ times:\n",
    "        * Randomly sample the data with sample size = dataset size.\n",
    "          \n",
    "        * Fit a Probit regression model on sample.\n",
    "          \n",
    "        * Predict probabilities ($\\hat{Y}$) of getting suspended on the sampled data based on Probit model.\n",
    "          \n",
    "        * Calculate the AUC for the predictions: predicted suspension probabilities $(\\hat{Y})$ compared to the true suspensions $(Y)$.\n",
    "      \n",
    "    3. Find average AUC and confidence intervals"
   ]
  },
  {
   "cell_type": "code",
   "execution_count": 31,
   "metadata": {},
   "outputs": [],
   "source": [
    "for predictor in predictors:\n",
    "    # Clean data for predictor\n",
    "    data_cleaned = data[[predictor, target]].dropna()\n",
    "    X = add_constant(data_cleaned[[predictor]])\n",
    "    y = data_cleaned[target]\n",
    "    \n",
    "    # Bootstrap for confidence intervals\n",
    "    bootstrapped_aucs = []\n",
    "    for r in range(100):  # 100 bootstrap iterations\n",
    "        # Sample data\n",
    "        indices = np.random.choice(len(y), len(y), replace=True)\n",
    "        X_boot, y_boot = X.iloc[indices], y.iloc[indices]\n",
    "\n",
    "        # Probit model\n",
    "        model_boot = Probit(y_boot, X_boot).fit(disp=False)\n",
    "        y_pred_boot = model_boot.predict(X_boot)\n",
    "\n",
    "        #AUC\n",
    "        bootstrapped_aucs.append(roc_auc_score(y_boot, y_pred_boot))\n",
    "    mean_auc = np.mean(bootstrapped_aucs)\n",
    "    lower_ci = np.percentile(bootstrapped_aucs, 2.5) # Lowest confidence\n",
    "    upper_ci = np.percentile(bootstrapped_aucs, 97.5) # Highest confidence\n",
    "\n",
    "    # Add to results\n",
    "    category = 'Political Orientation' if predictor in predictors[:4] else 'Low-Quality News Sharing'\n",
    "    results.append({\n",
    "        'Category': category,\n",
    "        'Predictor': predictor,\n",
    "        'Mean AUC': mean_auc,\n",
    "        'Lower Confidence': lower_ci,\n",
    "        'Upper Confidence': upper_ci\n",
    "    })"
   ]
  },
  {
   "cell_type": "markdown",
   "metadata": {},
   "source": [
    "* Let's now see how we did.\n",
    "\n",
    "* We put all our results in a dataframe and apply some formatting to make things more readable."
   ]
  },
  {
   "cell_type": "code",
   "execution_count": 32,
   "metadata": {},
   "outputs": [
    {
     "data": {
      "text/html": [
       "<style type=\"text/css\">\n",
       "</style>\n",
       "<table id=\"T_08e02\">\n",
       "  <thead>\n",
       "    <tr>\n",
       "      <th class=\"blank level0\" >&nbsp;</th>\n",
       "      <th id=\"T_08e02_level0_col0\" class=\"col_heading level0 col0\" >Category</th>\n",
       "      <th id=\"T_08e02_level0_col1\" class=\"col_heading level0 col1\" >Predictor</th>\n",
       "      <th id=\"T_08e02_level0_col2\" class=\"col_heading level0 col2\" >Mean AUC</th>\n",
       "      <th id=\"T_08e02_level0_col3\" class=\"col_heading level0 col3\" >Lower Confidence</th>\n",
       "      <th id=\"T_08e02_level0_col4\" class=\"col_heading level0 col4\" >Upper Confidence</th>\n",
       "    </tr>\n",
       "  </thead>\n",
       "  <tbody>\n",
       "    <tr>\n",
       "      <th id=\"T_08e02_level0_row0\" class=\"row_heading level0 row0\" >0</th>\n",
       "      <td id=\"T_08e02_row0_col0\" class=\"data row0 col0\" >Political Orientation</td>\n",
       "      <td id=\"T_08e02_row0_col1\" class=\"data row0 col1\" >Hashtags Shared</td>\n",
       "      <td id=\"T_08e02_row0_col2\" class=\"data row0 col2\" >0.68</td>\n",
       "      <td id=\"T_08e02_row0_col3\" class=\"data row0 col3\" >0.67</td>\n",
       "      <td id=\"T_08e02_row0_col4\" class=\"data row0 col4\" >0.69</td>\n",
       "    </tr>\n",
       "    <tr>\n",
       "      <th id=\"T_08e02_level0_row1\" class=\"row_heading level0 row1\" >1</th>\n",
       "      <td id=\"T_08e02_row1_col0\" class=\"data row1 col0\" >Political Orientation</td>\n",
       "      <td id=\"T_08e02_row1_col1\" class=\"data row1 col1\" >News Sites Shared 1</td>\n",
       "      <td id=\"T_08e02_row1_col2\" class=\"data row1 col2\" >0.70</td>\n",
       "      <td id=\"T_08e02_row1_col3\" class=\"data row1 col3\" >0.69</td>\n",
       "      <td id=\"T_08e02_row1_col4\" class=\"data row1 col4\" >0.72</td>\n",
       "    </tr>\n",
       "    <tr>\n",
       "      <th id=\"T_08e02_level0_row2\" class=\"row_heading level0 row2\" >2</th>\n",
       "      <td id=\"T_08e02_row2_col0\" class=\"data row2 col0\" >Political Orientation</td>\n",
       "      <td id=\"T_08e02_row2_col1\" class=\"data row2 col1\" >News Sites Shared 2</td>\n",
       "      <td id=\"T_08e02_row2_col2\" class=\"data row2 col2\" >0.71</td>\n",
       "      <td id=\"T_08e02_row2_col3\" class=\"data row2 col3\" >0.69</td>\n",
       "      <td id=\"T_08e02_row2_col4\" class=\"data row2 col4\" >0.72</td>\n",
       "    </tr>\n",
       "    <tr>\n",
       "      <th id=\"T_08e02_level0_row3\" class=\"row_heading level0 row3\" >3</th>\n",
       "      <td id=\"T_08e02_row3_col0\" class=\"data row3 col0\" >Political Orientation</td>\n",
       "      <td id=\"T_08e02_row3_col1\" class=\"data row3 col1\" >Accounts Followed</td>\n",
       "      <td id=\"T_08e02_row3_col2\" class=\"data row3 col2\" >0.71</td>\n",
       "      <td id=\"T_08e02_row3_col3\" class=\"data row3 col3\" >0.70</td>\n",
       "      <td id=\"T_08e02_row3_col4\" class=\"data row3 col4\" >0.73</td>\n",
       "    </tr>\n",
       "    <tr>\n",
       "      <th id=\"T_08e02_level0_row4\" class=\"row_heading level0 row4\" >4</th>\n",
       "      <td id=\"T_08e02_row4_col0\" class=\"data row4 col0\" >Low-Quality News Sharing</td>\n",
       "      <td id=\"T_08e02_row4_col1\" class=\"data row4 col1\" >AFM Ratings</td>\n",
       "      <td id=\"T_08e02_row4_col2\" class=\"data row4 col2\" >0.72</td>\n",
       "      <td id=\"T_08e02_row4_col3\" class=\"data row4 col3\" >0.71</td>\n",
       "      <td id=\"T_08e02_row4_col4\" class=\"data row4 col4\" >0.73</td>\n",
       "    </tr>\n",
       "    <tr>\n",
       "      <th id=\"T_08e02_level0_row5\" class=\"row_heading level0 row5\" >5</th>\n",
       "      <td id=\"T_08e02_row5_col0\" class=\"data row5 col0\" >Low-Quality News Sharing</td>\n",
       "      <td id=\"T_08e02_row5_col1\" class=\"data row5 col1\" >MBFC Ratings</td>\n",
       "      <td id=\"T_08e02_row5_col2\" class=\"data row5 col2\" >0.71</td>\n",
       "      <td id=\"T_08e02_row5_col3\" class=\"data row5 col3\" >0.69</td>\n",
       "      <td id=\"T_08e02_row5_col4\" class=\"data row5 col4\" >0.72</td>\n",
       "    </tr>\n",
       "    <tr>\n",
       "      <th id=\"T_08e02_level0_row6\" class=\"row_heading level0 row6\" >6</th>\n",
       "      <td id=\"T_08e02_row6_col0\" class=\"data row6 col0\" >Low-Quality News Sharing</td>\n",
       "      <td id=\"T_08e02_row6_col1\" class=\"data row6 col1\" >Lasser Ratings</td>\n",
       "      <td id=\"T_08e02_row6_col2\" class=\"data row6 col2\" >0.71</td>\n",
       "      <td id=\"T_08e02_row6_col3\" class=\"data row6 col3\" >0.69</td>\n",
       "      <td id=\"T_08e02_row6_col4\" class=\"data row6 col4\" >0.72</td>\n",
       "    </tr>\n",
       "    <tr>\n",
       "      <th id=\"T_08e02_level0_row7\" class=\"row_heading level0 row7\" >7</th>\n",
       "      <td id=\"T_08e02_row7_col0\" class=\"data row7 col0\" >Low-Quality News Sharing</td>\n",
       "      <td id=\"T_08e02_row7_col1\" class=\"data row7 col1\" >Fact-Checker Ratings</td>\n",
       "      <td id=\"T_08e02_row7_col2\" class=\"data row7 col2\" >0.70</td>\n",
       "      <td id=\"T_08e02_row7_col3\" class=\"data row7 col3\" >0.68</td>\n",
       "      <td id=\"T_08e02_row7_col4\" class=\"data row7 col4\" >0.71</td>\n",
       "    </tr>\n",
       "    <tr>\n",
       "      <th id=\"T_08e02_level0_row8\" class=\"row_heading level0 row8\" >8</th>\n",
       "      <td id=\"T_08e02_row8_col0\" class=\"data row8 col0\" >Low-Quality News Sharing</td>\n",
       "      <td id=\"T_08e02_row8_col1\" class=\"data row8 col1\" >Layperson Ratings</td>\n",
       "      <td id=\"T_08e02_row8_col2\" class=\"data row8 col2\" >0.69</td>\n",
       "      <td id=\"T_08e02_row8_col3\" class=\"data row8 col3\" >0.67</td>\n",
       "      <td id=\"T_08e02_row8_col4\" class=\"data row8 col4\" >0.70</td>\n",
       "    </tr>\n",
       "  </tbody>\n",
       "</table>\n"
      ],
      "text/plain": [
       "<pandas.io.formats.style.Styler at 0x2d5db996c50>"
      ]
     },
     "execution_count": 32,
     "metadata": {},
     "output_type": "execute_result"
    }
   ],
   "source": [
    "results_df = pd.DataFrame(results)\n",
    "label_mapping = {\n",
    "    'politics_hashtag': 'Hashtags Shared',\n",
    "    'politics_sites1': 'News Sites Shared 1',\n",
    "    'politics_sites2': 'News Sites Shared 2',\n",
    "    'politics_followed': 'Accounts Followed',\n",
    "    'lowqual_afm': 'AFM Ratings',\n",
    "    'lowqual_mbfc': 'MBFC Ratings',\n",
    "    'lowqual_lasser2019': 'Lasser Ratings',\n",
    "    'lowqual_pr2019_fc': 'Fact-Checker Ratings',\n",
    "    'lowqual_pr2019_crowd': 'Layperson Ratings'\n",
    "}\n",
    "results_df['Predictor'] = results_df['Predictor'].map(label_mapping)\n",
    "styled_results_df = results_df.style.format({col: \"{:.2f}\" for col in ['Mean AUC', 'Lower Confidence', 'Upper Confidence']})\n",
    "styled_results_df"
   ]
  },
  {
   "cell_type": "markdown",
   "metadata": {},
   "source": [
    "* The table shows how well each predictor, like \"Hashtags Shared\" or \"AFM Ratings,\" can distinguish between suspended and non-suspended users.\n",
    "\n",
    "* We see that both political behaviors (like Accounts Followed) and low-quality news (like AFM Ratings) are quite strong predictors -but not exceptionally strong- (AUC = $0.69-0.72$) of user suspension having very small differences between them, with AFM Ratings being the most reliable overall (AUC = $0.72$).\n",
    "\n",
    "* \"Layperson Ratings\" (AUC = $0.69$) and \"Hashtags Shared\" (AUC = $0.68$) are weaker predictors.\n",
    "  \n",
    "* Also we notice that we have narrow confidence intervals (maximum interval length is $0.03$) so these models are reliable and not overly sensitive to sample variations."
   ]
  },
  {
   "cell_type": "markdown",
   "metadata": {},
   "source": [
    "* To visualize our findlings we will now create a bar chart, showing the Mean AUC (Area Under the Curve) for each predictor along with its $95\\%$ Confidence Intervals (CIs)."
   ]
  },
  {
   "cell_type": "code",
   "execution_count": 33,
   "metadata": {},
   "outputs": [
    {
     "data": {
      "image/png": "[encoded data removed]",
      "text/plain": [
       "<Figure size 1000x600 with 1 Axes>"
      ]
     },
     "metadata": {},
     "output_type": "display_data"
    }
   ],
   "source": [
    "plt.figure(figsize=(10, 6))\n",
    "\n",
    "categories = ['Political Orientation', 'Low-Quality News Sharing']\n",
    "colors = {'Political Orientation': '#993399', 'Low-Quality News Sharing': '#339933'} # colour in purple political orient. and in green low q. news\n",
    "\n",
    "# Format x axis (use text wrapping)\n",
    "x_positions = range(len(results_df))\n",
    "max_label_length = 9  # Maximum label length\n",
    "adjusted_labels = [\n",
    "    '\\n'.join(textwrap.wrap(label, max_label_length)) for label in results_df['Predictor']\n",
    "]\n",
    "\n",
    "# Bar Plot\n",
    "for category in categories:\n",
    "    subset = results_df[results_df['Category'] == category]\n",
    "    indices = subset.index\n",
    "    plt.bar(\n",
    "        indices,\n",
    "        subset['Mean AUC'],\n",
    "        yerr=[subset['Mean AUC'] - subset['Lower Confidence'], subset['Upper Confidence'] - subset['Mean AUC']],\n",
    "        capsize=4,\n",
    "        color=colors[category],\n",
    "        label=category,\n",
    "        edgecolor='black'\n",
    "    )\n",
    "\n",
    "plt.xticks(x_positions, adjusted_labels, fontsize=10, ha='center')\n",
    "plt.ylim(0.5, 0.8)  # Set Y-axis range\n",
    "plt.ylabel('AUC', fontsize=12)\n",
    "plt.title('Probit Model AUC with 95% Confidence Intervals', fontsize=14)\n",
    "plt.legend(title=\"Classes\", loc='upper right', fontsize=10)\n",
    "plt.tight_layout()\n",
    "plt.show()"
   ]
  },
  {
   "cell_type": "markdown",
   "metadata": {},
   "source": [
    "* In our visualization it becomes even clearer that using single predictors' strength it is **not clear whether Political Orientation or Low quality News Sharing are better estimators of suspension**. The mean AUC metrics we are seeing are all in close proximity to each other.\n",
    "\n",
    "* This blury picture may be because of the **high correlation** these variables have as we saw in previous chapters.\n",
    "\n",
    "* So maybe using multiple predictor might show a clearer picture."
   ]
  },
  {
   "cell_type": "markdown",
   "metadata": {},
   "source": [
    "# News Sharing Can Help Explain Suspension, Using Multiple Predictors\n"
   ]
  },
  {
   "cell_type": "markdown",
   "metadata": {},
   "source": [
    "* Let's now examine exactly that: whether using multiple predictors will show as what are the best predictors of Twitter suspension.\n",
    "\n",
    "* In this analysis we will put all the possible predictor categories we got it our data:\n",
    "    * **News quality indicators**\n",
    "    \n",
    "    * **Political Orientation**\n",
    "    \n",
    "    * **Toxicity Metrics** (such as `rewire_hate`) : harmful language in user posts.\n",
    "    \n",
    "    * **Sentiment and Emotion** (such as `valence_neg`) : emotional tone of shared content.\n",
    "    \n",
    "    * **Activity and Influence** (such as `num_followers`) : user activity levels and network size.\n",
    " \n",
    "* But before we get to the multiple regression (the heart of this analysis) we should do some preparations. "
   ]
  },
  {
   "cell_type": "markdown",
   "metadata": {},
   "source": [
    "## Data Preparation"
   ]
  },
  {
   "cell_type": "markdown",
   "metadata": {},
   "source": [
    "### Missing values\n",
    "\n",
    "* First of all we must handle the `NaN` values"
   ]
  },
  {
   "cell_type": "code",
   "execution_count": 34,
   "metadata": {},
   "outputs": [
    {
     "data": {
      "text/plain": [
       "3418"
      ]
     },
     "execution_count": 34,
     "metadata": {},
     "output_type": "execute_result"
    }
   ],
   "source": [
    "data.isna().sum().sum()"
   ]
  },
  {
   "cell_type": "markdown",
   "metadata": {},
   "source": [
    "* We see that we have $3418$ cells that have missing values in our dataset"
   ]
  },
  {
   "cell_type": "markdown",
   "metadata": {},
   "source": [
    "* We will fill all missing values with the column mean."
   ]
  },
  {
   "cell_type": "code",
   "execution_count": 35,
   "metadata": {},
   "outputs": [],
   "source": [
    "data = data.fillna(data.mean())"
   ]
  },
  {
   "cell_type": "markdown",
   "metadata": {},
   "source": [
    "### Handle outliers"
   ]
  },
  {
   "cell_type": "markdown",
   "metadata": {},
   "source": [
    "* Handling outliers is also important before moving to a multiple regression.\n",
    "\n",
    "* Starting off we have some variables (`repeated_tweet_count`, `num_followers`, `num_friends`, `freq_pr_1h`) that represent social or behavioral data, which often follow a long-tailed distribution:\n",
    "  \n",
    "   * A majority of users have few tweets or followers.\n",
    "   * A small number of users dominate with extremely high counts."
   ]
  },
  {
   "cell_type": "markdown",
   "metadata": {},
   "source": [
    "* This can be showcased if we show their distribution in boxplots."
   ]
  },
  {
   "cell_type": "code",
   "execution_count": 36,
   "metadata": {},
   "outputs": [
    {
     "data": {
      "image/png": "[encoded data removed]",
      "text/plain": [
       "<Figure size 1600x500 with 4 Axes>"
      ]
     },
     "metadata": {},
     "output_type": "display_data"
    }
   ],
   "source": [
    "fig, axes = plt.subplots(1, 4, figsize=(16, 5))\n",
    "\n",
    "# 1 boxplot for each variable\n",
    "for i, variable in enumerate([\"repeated_tweet_count\", \"freq_pr_1h\", \"num_followers\", \"num_friends\"]):\n",
    "    sns.boxplot(data=data[variable], ax=axes[i], color=\"skyblue\")\n",
    "    axes[i].set_title(f\"Boxplot: {variable}\")\n",
    "    axes[i].set_xlabel(\"\")\n",
    "    axes[i].set_ylabel(\"Value\")\n",
    "plt.tight_layout()\n",
    "plt.show()"
   ]
  },
  {
   "cell_type": "markdown",
   "metadata": {},
   "source": [
    "* We see that distributions show a very concentrated core near the lower end of the scale and a large number of extreme outliers.\n",
    "\n",
    "* To tackle this issue we will log - transform our data in these columns. (note that we are adding $1$ to avoid $\\log_{10}(0)$ which is not defined)\n",
    "\n",
    "$$\n",
    "\\text{log-transformed value} = \\log_{10}(x + 1)\n",
    "$$\n"
   ]
  },
  {
   "cell_type": "code",
   "execution_count": 37,
   "metadata": {},
   "outputs": [],
   "source": [
    "data['log_repeated_tweet_count'] = np.log10(data['repeated_tweet_count'] + 1)\n",
    "data['log_freq_pr_1h'] = np.log10(data['freq_pr_1h'] + 1)\n",
    "data['log_num_followers'] = np.log10(data['num_followers'] + 1)\n",
    "data['log_num_friends'] = np.log10(data['num_friends'] + 1)"
   ]
  },
  {
   "cell_type": "markdown",
   "metadata": {},
   "source": [
    "* We also create a new variable `log_fol`.\n",
    "$$\\text{Log Followers} = \\frac{\\log_{10}(\\text{Number of Friends} + 1)}{\\log_{10}(\\text{Number of Followers} + 1)}$$\n",
    "\n"
   ]
  },
  {
   "cell_type": "code",
   "execution_count": 38,
   "metadata": {},
   "outputs": [],
   "source": [
    "data['log_fol'] = np.log10((data['num_friends'] + 1) / (data['num_followers'] + 1))"
   ]
  },
  {
   "cell_type": "markdown",
   "metadata": {},
   "source": [
    "* For other outliers that seem to have a smaller range we will use Winsorization\n",
    "\n",
    "* For the following variables we will Winsorize for both sides at $99\\%$"
   ]
  },
  {
   "cell_type": "code",
   "execution_count": 39,
   "metadata": {},
   "outputs": [],
   "source": [
    "valence_vars = ['valence_neg', 'valence_neu', 'valence_pos', \n",
    "                'barbera_std', 'politics_sites1_std', 'politics_sites2_ideo_std']\n",
    "for var in valence_vars:\n",
    "    data[var] = winsorize(data[var], limits=[0.01, 0.01])"
   ]
  },
  {
   "cell_type": "markdown",
   "metadata": {},
   "source": [
    "* And for the following variables we will Winsorize for the upper side only at $99\\%$"
   ]
  },
  {
   "cell_type": "code",
   "execution_count": 40,
   "metadata": {},
   "outputs": [],
   "source": [
    "rewire_vars = ['moral_outrage', 'rewire_abuse', 'rewire_hate', 'rewire_profanity', \n",
    "               'rewire_violent', 'rewire_sexually_explicit', 'jigsaw_toxicity', \n",
    "               'jigsaw_severe_toxicity', 'jigsaw_idenity_attack', 'jigsaw_insult', \n",
    "               'jigsaw_profanity', 'jigsaw_threat']\n",
    "for var in rewire_vars:\n",
    "    data[var] = winsorize(data[var], limits=[0, 0.01])"
   ]
  },
  {
   "cell_type": "markdown",
   "metadata": {},
   "source": [
    "### PCA\n",
    "\n",
    "* Certain variables basically count the same thing (ex. `lowqual_pr2019_fc`, `lowqual_af`', `lowqual_lasser2019`, `lowqual_mbfc` all count low-quality news) so they have a very high correlation between them (which could lead to ***multicollinearity***).\n",
    "\n",
    "* This could obsure the regression results.\n",
    "\n",
    "* So to tackle this we will use **PCA** (Principal Component Analysis) to retain most of the information while reducing the number of predictors.\n",
    "\n",
    "#### PCA for low-quality news sharing"
   ]
  },
  {
   "cell_type": "markdown",
   "metadata": {},
   "source": [
    "* The first PCA is on the variables `lowqual_pr2019_fc`, `lowqual_af`', `lowqual_lasser2019`, `lowqual_mbfc` all measuring low quality news sharing using different methods.\n",
    "\n",
    "* We will only keep $1$ component for these variables: a low-quality news sharing index.\n",
    "\n",
    "* The first step to PCA is standardization ($z-scores$) so we do that with the help of `StandardScaler()`."
   ]
  },
  {
   "cell_type": "code",
   "execution_count": 41,
   "metadata": {},
   "outputs": [],
   "source": [
    "scaler = StandardScaler()\n",
    "low_quality_data_scaled = scaler.fit_transform(data[['lowqual_pr2019_fc', \n",
    "                                                     'lowqual_afm', \n",
    "                                                     'lowqual_lasser2019', \n",
    "                                                     'lowqual_mbfc']])"
   ]
  },
  {
   "cell_type": "markdown",
   "metadata": {},
   "source": [
    "* We apply PCA on the standarzided columns created a new column, `pc1_misinfo`, which combines the information from the correlated variables into one."
   ]
  },
  {
   "cell_type": "code",
   "execution_count": 42,
   "metadata": {},
   "outputs": [],
   "source": [
    "pca_low_quality = PCA(n_components=1)\n",
    "pc1_misinfo = pca_low_quality.fit_transform(low_quality_data_scaled)\n",
    "data['pc1_misinfo'] = pc1_misinfo"
   ]
  },
  {
   "cell_type": "markdown",
   "metadata": {},
   "source": [
    "* Let's see how representative this column is."
   ]
  },
  {
   "cell_type": "code",
   "execution_count": 43,
   "metadata": {},
   "outputs": [
    {
     "data": {
      "text/plain": [
       "array([0.87255953])"
      ]
     },
     "execution_count": 43,
     "metadata": {},
     "output_type": "execute_result"
    }
   ],
   "source": [
    "pca_low_quality.explained_variance_ratio_"
   ]
  },
  {
   "cell_type": "markdown",
   "metadata": {},
   "source": [
    "* Se see that $87\\%$ of the total variance in the original variables is summarized by PC1.\n",
    "\n",
    "* Such a high percentage explains why we can use only this single component instead of the original variables."
   ]
  },
  {
   "cell_type": "markdown",
   "metadata": {},
   "source": [
    "#### PCA for political orientation\n",
    "\n",
    "* We will now create one component for the variables `politics_hashtag`, `politics_followed`, `politics_sites1`, `politics_sites2` which all measure political orientation from $0$ (liberal) to $1$ (republican) with different ways (hashtags, accounts followed, shared URLs).\n",
    "\n",
    "* Again we stardardize our data."
   ]
  },
  {
   "cell_type": "code",
   "execution_count": 44,
   "metadata": {},
   "outputs": [],
   "source": [
    "scaler = StandardScaler()\n",
    "political_data_scaled = scaler.fit_transform(data[['politics_hashtag', \n",
    "                                                   'politics_followed', \n",
    "                                                   'politics_sites1', \n",
    "                                                   'politics_sites2']])"
   ]
  },
  {
   "cell_type": "markdown",
   "metadata": {},
   "source": [
    "* We apply PCA on the standarzided columns created a new column, `pc1_politics`, which combines the information from the correlated variables into one."
   ]
  },
  {
   "cell_type": "code",
   "execution_count": 45,
   "metadata": {},
   "outputs": [],
   "source": [
    "pca_political = PCA(n_components=1)\n",
    "pc1_politics = pca_political.fit_transform(political_data_scaled)\n",
    "data['pc1_politics'] = pc1_politics"
   ]
  },
  {
   "cell_type": "markdown",
   "metadata": {},
   "source": [
    "* And let's check again the explained variance"
   ]
  },
  {
   "cell_type": "code",
   "execution_count": 46,
   "metadata": {},
   "outputs": [
    {
     "data": {
      "text/plain": [
       "array([0.87952937])"
      ]
     },
     "execution_count": 46,
     "metadata": {},
     "output_type": "execute_result"
    }
   ],
   "source": [
    "pca_political.explained_variance_ratio_"
   ]
  },
  {
   "cell_type": "markdown",
   "metadata": {},
   "source": [
    "* $87\\%$ of the total variance in the original variables is summarized by PC1. So again the new variable summarizes the others representatively engough."
   ]
  },
  {
   "cell_type": "code",
   "execution_count": 47,
   "metadata": {},
   "outputs": [
    {
     "name": "stdout",
     "output_type": "stream",
     "text": [
      "Min: -3.31, Max: 3.55\n"
     ]
    }
   ],
   "source": [
    "print(f\"Min: {round(data['pc1_politics'].min(), 2)}, Max: {round(data['pc1_politics'].max(), 2)}\")"
   ]
  },
  {
   "cell_type": "markdown",
   "metadata": {},
   "source": [
    "* We see that in the new variable $-3$ will be liberal and $3$ will be republican.\n",
    "\n",
    "* We will add a new variable called `extremity` which will be the absolute value of `pc1_politics`, with $3$ meaning extreme liberal or extreme republican."
   ]
  },
  {
   "cell_type": "code",
   "execution_count": 48,
   "metadata": {},
   "outputs": [],
   "source": [
    "data['extremity'] = np.abs(data['pc1_politics'])"
   ]
  },
  {
   "cell_type": "markdown",
   "metadata": {},
   "source": [
    "#### PCA for follower metrics"
   ]
  },
  {
   "cell_type": "markdown",
   "metadata": {},
   "source": [
    "* We create $1$ component for the variables `log_num_followers`, `log_num_friends`, `log_fol`.\n",
    "\n",
    "* Strating again with standardization."
   ]
  },
  {
   "cell_type": "code",
   "execution_count": 49,
   "metadata": {},
   "outputs": [],
   "source": [
    "scaler = StandardScaler()\n",
    "follower_data_scaled = scaler.fit_transform(data[['log_num_followers', 'log_num_friends', 'log_fol']])"
   ]
  },
  {
   "cell_type": "markdown",
   "metadata": {},
   "source": [
    "* And we name the new variable created by PCA as `pc1_fol`."
   ]
  },
  {
   "cell_type": "code",
   "execution_count": 50,
   "metadata": {},
   "outputs": [
    {
     "data": {
      "text/plain": [
       "array([0.70462969])"
      ]
     },
     "execution_count": 50,
     "metadata": {},
     "output_type": "execute_result"
    }
   ],
   "source": [
    "pca_follower = PCA(n_components=1)\n",
    "pc1_fol = pca_follower.fit_transform(follower_data_scaled)\n",
    "data['pc1_fol'] = pc1_fol\n",
    "\n",
    "pca_follower.explained_variance_ratio_"
   ]
  },
  {
   "cell_type": "markdown",
   "metadata": {},
   "source": [
    "* This component explains $70\\%$ of the original variables' variance which lower than in the previous PCAs we performed but not too low."
   ]
  },
  {
   "cell_type": "markdown",
   "metadata": {},
   "source": [
    "### PCA for harmful language\n",
    "\n",
    "* Next we will perform PCA on the variables: `rewire_abuse`, `rewire_hate`, `rewire_profanity`, `rewire_violent`, `rewire_sexually_explicit`, `jigsaw_toxicity`, `jigsaw_severe_toxicity`, `jigsaw_idenity_attack`, `jigsaw_insult`, `jigsaw_profanity`, `jigsaw_threat`.\n",
    "\n",
    "* Here we will use $3$ componets.\n",
    "\n",
    "* We will later explain why.\n",
    "\n",
    "* We start by normalizing."
   ]
  },
  {
   "cell_type": "code",
   "execution_count": 51,
   "metadata": {},
   "outputs": [],
   "source": [
    "harmful_language_vars = [\n",
    "    'rewire_abuse', 'rewire_hate', 'rewire_profanity', 'rewire_violent', \n",
    "    'rewire_sexually_explicit', 'jigsaw_toxicity', 'jigsaw_severe_toxicity', \n",
    "    'jigsaw_idenity_attack', 'jigsaw_insult', 'jigsaw_profanity', 'jigsaw_threat'\n",
    "]\n",
    "scaler = StandardScaler()\n",
    "harmful_language_data_scaled = scaler.fit_transform(data[harmful_language_vars])"
   ]
  },
  {
   "cell_type": "markdown",
   "metadata": {},
   "source": [
    "* We now perform PCA on these variables for $3$ components."
   ]
  },
  {
   "cell_type": "code",
   "execution_count": 52,
   "metadata": {},
   "outputs": [
    {
     "name": "stdout",
     "output_type": "stream",
     "text": [
      "Total Explained Variance: 0.7874157847381195\n"
     ]
    },
    {
     "data": {
      "text/plain": [
       "array([0.5616608 , 0.11871792, 0.10703707])"
      ]
     },
     "execution_count": 52,
     "metadata": {},
     "output_type": "execute_result"
    }
   ],
   "source": [
    "pca_harmful = PCA(n_components=3)\n",
    "harmful_language_pca = pca_harmful.fit_transform(harmful_language_data_scaled)\n",
    "data['pc1_harmful_language'] = harmful_language_pca[:, 0]\n",
    "data['pc2_harmful_language'] = harmful_language_pca[:, 1]\n",
    "data['pc3_harmful_language'] = harmful_language_pca[:, 2]\n",
    "\n",
    "total_explained_variance = pca_harmful.explained_variance_ratio_.sum()\n",
    "print(\"Total Explained Variance:\", total_explained_variance)\n",
    "pca_harmful.explained_variance_ratio_"
   ]
  },
  {
   "cell_type": "markdown",
   "metadata": {},
   "source": [
    "* The reason we used $3$ components instead of $1$ is that if we had used only $1$ we would have goten only $56\\%$ of variance explained, missing valuable information.\n",
    "\n",
    "* By using $3$ components we get $78.7\\%$ explained which is much better.\n",
    "\n",
    "* This means that we have caught on $3$ different dimensions of variance in the data related to harmful language.\n",
    "\n",
    "* Let's explore what these dimensions are.\n",
    "\n",
    "* To do this we will utilize the PCA loading we have.\n",
    "\n",
    "* Loading shows each variables' contribution to the final value of each PCA.\n",
    "\n",
    "* For better readbility we round the loadings and present them as percentages of contribution to each PCA."
   ]
  },
  {
   "cell_type": "code",
   "execution_count": 53,
   "metadata": {},
   "outputs": [
    {
     "data": {
      "text/html": [
       "<div>\n",
       "<style scoped>\n",
       "    .dataframe tbody tr th:only-of-type {\n",
       "        vertical-align: middle;\n",
       "    }\n",
       "\n",
       "    .dataframe tbody tr th {\n",
       "        vertical-align: top;\n",
       "    }\n",
       "\n",
       "    .dataframe thead th {\n",
       "        text-align: right;\n",
       "    }\n",
       "</style>\n",
       "<table border=\"1\" class=\"dataframe\">\n",
       "  <thead>\n",
       "    <tr style=\"text-align: right;\">\n",
       "      <th></th>\n",
       "      <th>Contribution to PC1 (%)</th>\n",
       "      <th>Contribution to PC2 (%)</th>\n",
       "      <th>Contribution to PC3 (%)</th>\n",
       "    </tr>\n",
       "  </thead>\n",
       "  <tbody>\n",
       "    <tr>\n",
       "      <th>rewire_abuse</th>\n",
       "      <td>32</td>\n",
       "      <td>34</td>\n",
       "      <td>-30</td>\n",
       "    </tr>\n",
       "    <tr>\n",
       "      <th>rewire_hate</th>\n",
       "      <td>23</td>\n",
       "      <td>57</td>\n",
       "      <td>-3</td>\n",
       "    </tr>\n",
       "    <tr>\n",
       "      <th>rewire_profanity</th>\n",
       "      <td>25</td>\n",
       "      <td>-23</td>\n",
       "      <td>-43</td>\n",
       "    </tr>\n",
       "    <tr>\n",
       "      <th>rewire_violent</th>\n",
       "      <td>23</td>\n",
       "      <td>6</td>\n",
       "      <td>-3</td>\n",
       "    </tr>\n",
       "    <tr>\n",
       "      <th>rewire_sexually_explicit</th>\n",
       "      <td>12</td>\n",
       "      <td>-53</td>\n",
       "      <td>-37</td>\n",
       "    </tr>\n",
       "    <tr>\n",
       "      <th>jigsaw_toxicity</th>\n",
       "      <td>38</td>\n",
       "      <td>13</td>\n",
       "      <td>-7</td>\n",
       "    </tr>\n",
       "    <tr>\n",
       "      <th>jigsaw_severe_toxicity</th>\n",
       "      <td>33</td>\n",
       "      <td>-30</td>\n",
       "      <td>24</td>\n",
       "    </tr>\n",
       "    <tr>\n",
       "      <th>jigsaw_idenity_attack</th>\n",
       "      <td>30</td>\n",
       "      <td>-4</td>\n",
       "      <td>46</td>\n",
       "    </tr>\n",
       "    <tr>\n",
       "      <th>jigsaw_insult</th>\n",
       "      <td>37</td>\n",
       "      <td>13</td>\n",
       "      <td>-3</td>\n",
       "    </tr>\n",
       "    <tr>\n",
       "      <th>jigsaw_profanity</th>\n",
       "      <td>36</td>\n",
       "      <td>-20</td>\n",
       "      <td>-15</td>\n",
       "    </tr>\n",
       "    <tr>\n",
       "      <th>jigsaw_threat</th>\n",
       "      <td>28</td>\n",
       "      <td>-17</td>\n",
       "      <td>52</td>\n",
       "    </tr>\n",
       "  </tbody>\n",
       "</table>\n",
       "</div>"
      ],
      "text/plain": [
       "                          Contribution to PC1 (%)  Contribution to PC2 (%)  \\\n",
       "rewire_abuse                                   32                       34   \n",
       "rewire_hate                                    23                       57   \n",
       "rewire_profanity                               25                      -23   \n",
       "rewire_violent                                 23                        6   \n",
       "rewire_sexually_explicit                       12                      -53   \n",
       "jigsaw_toxicity                                38                       13   \n",
       "jigsaw_severe_toxicity                         33                      -30   \n",
       "jigsaw_idenity_attack                          30                       -4   \n",
       "jigsaw_insult                                  37                       13   \n",
       "jigsaw_profanity                               36                      -20   \n",
       "jigsaw_threat                                  28                      -17   \n",
       "\n",
       "                          Contribution to PC3 (%)  \n",
       "rewire_abuse                                  -30  \n",
       "rewire_hate                                    -3  \n",
       "rewire_profanity                              -43  \n",
       "rewire_violent                                 -3  \n",
       "rewire_sexually_explicit                      -37  \n",
       "jigsaw_toxicity                                -7  \n",
       "jigsaw_severe_toxicity                         24  \n",
       "jigsaw_idenity_attack                          46  \n",
       "jigsaw_insult                                  -3  \n",
       "jigsaw_profanity                              -15  \n",
       "jigsaw_threat                                  52  "
      ]
     },
     "execution_count": 53,
     "metadata": {},
     "output_type": "execute_result"
    }
   ],
   "source": [
    "loadings = (\n",
    "    pd.DataFrame(\n",
    "        pca_harmful.components_.T * 100,  # values to percentages\n",
    "        columns=[\n",
    "            'Contribution to PC1 (%)',\n",
    "            'Contribution to PC2 (%)',\n",
    "            'Contribution to PC3 (%)'\n",
    "        ],\n",
    "        index=harmful_language_vars\n",
    "    )\n",
    "    .astype(int)  # Convert to integers\n",
    ")\n",
    "\n",
    "loadings"
   ]
  },
  {
   "cell_type": "markdown",
   "metadata": {},
   "source": [
    "* As we said each PCA captures a different dimention of a user's harmful language used on Twitter.\n",
    "\n",
    "* **PCA1: General Harmful Language**:\n",
    "    *  Is a **general measure of harmful language intensity**, as it has high positive contributions across almost all variables and captures the majority of the variability in the dataset ($56\\%$).\n",
    " \n",
    "    *  The biggest contributors are: toxicity ($38\\%$), insult ($37\\%$), profanity ($36\\%$), severe toxicity ($33\\%$), rewire abuse ($32\\%$) but all variables have a high contribution.\n",
    " \n",
    "* **PCA2: Hate and Sexually Explicit Language**:\n",
    "    * Highest positive loading: hate ($58\\%$).\n",
    "      \n",
    "    * Highest negative loading: sexually explicit language ($-54\\%$)\n",
    " \n",
    "    * In real-life this means that these types of harmful language that do not usually occur together, so PCA2 captures this **contrast between hate content and sexually explicit content**.\n",
    "        \n",
    "    *  High PCA2 values mean use of hate language unrelated to sexual content. (ex. Twitter posts with hate speech targeting specific groups (like hate-filled political discourse).\n",
    "     \n",
    "    *  Low PC2 Scores mean use of sexually explicit content but low levels of hate. (ex. posts containing explicit sexual language, which might not involve hate).\n",
    "\n",
    "* **PCA3: Targeted harmful behaviour**\n",
    "    * Highest Positive Contributions: threat ($52\\%$), identity attack ($46\\%$).\n",
    "      \n",
    "    * Highest Negative Contributions: profanity ($-43\\%$), sexually explicit language ($-37\\%$) .\n",
    "      \n",
    "    * PC3 separates **targeted harmful behavior** (threats, identity attacks) from general or sexually explicit profanity.\n",
    " \n",
    "    * High PC3 scores reflect targeted threats or identity-based language\n",
    "    \n",
    "    * Low PC3 scores reflect non-targeted vulgar or explicit content."
   ]
  },
  {
   "cell_type": "markdown",
   "metadata": {},
   "source": [
    "#### PCA for valence\n",
    "\n",
    "* Let's now perform PCA with $1$ component for `valence_neg`, `valence_neu` and `valence_pos` which measure the emotional valence of content posted on Twitter by a user.\n",
    "\n",
    "* [Emotional valence](https://en.wikipedia.org/wiki/Valence_(psychology)) is the sentiment expressed in a piece of content (positive like joy, neutral, or negative like anger).\n",
    "\n",
    "* Let's start with normalizing the variables."
   ]
  },
  {
   "cell_type": "code",
   "execution_count": 54,
   "metadata": {},
   "outputs": [],
   "source": [
    "valence_vars = ['valence_neg', 'valence_neu', 'valence_pos']\n",
    "scaler = StandardScaler()\n",
    "valence_data_scaled = scaler.fit_transform(data[valence_vars])"
   ]
  },
  {
   "cell_type": "markdown",
   "metadata": {},
   "source": [
    "* And we perform PCA and name the new produced variable `pc1_valence`."
   ]
  },
  {
   "cell_type": "code",
   "execution_count": 55,
   "metadata": {},
   "outputs": [
    {
     "data": {
      "text/plain": [
       "array([0.7079432])"
      ]
     },
     "execution_count": 55,
     "metadata": {},
     "output_type": "execute_result"
    }
   ],
   "source": [
    "pca_valence = PCA(n_components=1)\n",
    "pc1_valence = pca_valence.fit_transform(valence_data_scaled)\n",
    "data['pc1_valence'] = pc1_valence\n",
    "pca_valence.explained_variance_ratio_"
   ]
  },
  {
   "cell_type": "markdown",
   "metadata": {},
   "source": [
    "* `pc1_valence` captures the $70\\%$ of the variability of the original variables.\n",
    "\n",
    "* It might be interesting to see what exactly this variable measures."
   ]
  },
  {
   "cell_type": "code",
   "execution_count": 56,
   "metadata": {},
   "outputs": [
    {
     "data": {
      "text/html": [
       "<div>\n",
       "<style scoped>\n",
       "    .dataframe tbody tr th:only-of-type {\n",
       "        vertical-align: middle;\n",
       "    }\n",
       "\n",
       "    .dataframe tbody tr th {\n",
       "        vertical-align: top;\n",
       "    }\n",
       "\n",
       "    .dataframe thead th {\n",
       "        text-align: right;\n",
       "    }\n",
       "</style>\n",
       "<table border=\"1\" class=\"dataframe\">\n",
       "  <thead>\n",
       "    <tr style=\"text-align: right;\">\n",
       "      <th></th>\n",
       "      <th>Contribution to PCA (%)</th>\n",
       "    </tr>\n",
       "  </thead>\n",
       "  <tbody>\n",
       "    <tr>\n",
       "      <th>valence_neg</th>\n",
       "      <td>-46</td>\n",
       "    </tr>\n",
       "    <tr>\n",
       "      <th>valence_neu</th>\n",
       "      <td>68</td>\n",
       "    </tr>\n",
       "    <tr>\n",
       "      <th>valence_pos</th>\n",
       "      <td>-56</td>\n",
       "    </tr>\n",
       "  </tbody>\n",
       "</table>\n",
       "</div>"
      ],
      "text/plain": [
       "             Contribution to PCA (%)\n",
       "valence_neg                      -46\n",
       "valence_neu                       68\n",
       "valence_pos                      -56"
      ]
     },
     "execution_count": 56,
     "metadata": {},
     "output_type": "execute_result"
    }
   ],
   "source": [
    "loadings = (\n",
    "    pd.DataFrame(\n",
    "        pca_valence.components_[0] * 100,  # values to percentages\n",
    "        columns=[\n",
    "            'Contribution to PCA (%)'\n",
    "        ],\n",
    "        index=valence_vars\n",
    "    )\n",
    "    .astype(int)  # Convert to integers\n",
    ")\n",
    "loadings"
   ]
  },
  {
   "cell_type": "markdown",
   "metadata": {},
   "source": [
    "* This component could represent the degree of neutrality in text content.\n",
    "  \n",
    "* High scores: neutral posts (since neutral valence has positive loading).\n",
    "\n",
    "* Low scores: strongly positively or negatively emotionaly charged posts (since negative valence and positive valence have negative loadings)."
   ]
  },
  {
   "cell_type": "markdown",
   "metadata": {},
   "source": [
    "### Normalization of variables\n",
    "\n",
    "* Before we move onto our regression we will define all the independent variables we will use."
   ]
  },
  {
   "cell_type": "code",
   "execution_count": 57,
   "metadata": {},
   "outputs": [],
   "source": [
    "independent_vars = [\n",
    "    'pc1_politics', 'pc1_misinfo', 'pc1_fol', 'pc1_harmful_language', \n",
    "    'pc2_harmful_language', 'pc3_harmful_language', 'pc1_valence', \n",
    "    'tweets_in_2wk', 'botsentinel_score', 'extremity', 'moral_outrage', \n",
    "    'liwc_political', 'log_freq_pr_1h', 'log_repeated_tweet_count', \n",
    "    'barbera_std', 'politics_sites1_std', 'politics_sites2_ideo_std'\n",
    "]"
   ]
  },
  {
   "cell_type": "markdown",
   "metadata": {},
   "source": [
    "* And normalize them using z-scores."
   ]
  },
  {
   "cell_type": "code",
   "execution_count": 58,
   "metadata": {},
   "outputs": [],
   "source": [
    "data[independent_vars] = data[independent_vars].apply(zscore)"
   ]
  },
  {
   "cell_type": "markdown",
   "metadata": {},
   "source": [
    "## Probit Regression"
   ]
  },
  {
   "cell_type": "markdown",
   "metadata": {},
   "source": [
    "* And we move to the heart of this chapter: The Regression.\n",
    "\n",
    "* As we metioned in the beginning of the chapter we will use Probit Regression which is very useful when it comes to binary outcomes ($0/1$) like ours: suspended / not suspended.\n",
    "\n",
    "* We define our $X$ and $Y$."
   ]
  },
  {
   "cell_type": "code",
   "execution_count": 59,
   "metadata": {},
   "outputs": [],
   "source": [
    "X = add_constant(data[independent_vars])\n",
    "y = data['suspended']"
   ]
  },
  {
   "cell_type": "markdown",
   "metadata": {},
   "source": [
    "* And we perform Probit regression on our $X$ and $Y$."
   ]
  },
  {
   "cell_type": "code",
   "execution_count": 60,
   "metadata": {},
   "outputs": [
    {
     "name": "stdout",
     "output_type": "stream",
     "text": [
      "Optimization terminated successfully.\n",
      "         Current function value: 0.302637\n",
      "         Iterations 7\n"
     ]
    },
    {
     "data": {
      "text/html": [
       "<table class=\"simpletable\">\n",
       "<caption>Probit Regression Results</caption>\n",
       "<tr>\n",
       "  <th>Dep. Variable:</th>       <td>suspended</td>    <th>  No. Observations:  </th>   <td>  9000</td>  \n",
       "</tr>\n",
       "<tr>\n",
       "  <th>Model:</th>                <td>Probit</td>      <th>  Df Residuals:      </th>   <td>  8982</td>  \n",
       "</tr>\n",
       "<tr>\n",
       "  <th>Method:</th>                 <td>MLE</td>       <th>  Df Model:          </th>   <td>    17</td>  \n",
       "</tr>\n",
       "<tr>\n",
       "  <th>Date:</th>            <td>Sat, 07 Dec 2024</td> <th>  Pseudo R-squ.:     </th>   <td>0.1762</td>  \n",
       "</tr>\n",
       "<tr>\n",
       "  <th>Time:</th>                <td>15:23:58</td>     <th>  Log-Likelihood:    </th>  <td> -2723.7</td> \n",
       "</tr>\n",
       "<tr>\n",
       "  <th>converged:</th>             <td>True</td>       <th>  LL-Null:           </th>  <td> -3306.3</td> \n",
       "</tr>\n",
       "<tr>\n",
       "  <th>Covariance Type:</th>     <td>nonrobust</td>    <th>  LLR p-value:       </th> <td>3.877e-237</td>\n",
       "</tr>\n",
       "</table>\n",
       "<table class=\"simpletable\">\n",
       "<tr>\n",
       "              <td></td>                <th>coef</th>     <th>std err</th>      <th>z</th>      <th>P>|z|</th>  <th>[0.025</th>    <th>0.975]</th>  \n",
       "</tr>\n",
       "<tr>\n",
       "  <th>const</th>                    <td>   -1.4273</td> <td>    0.023</td> <td>  -61.086</td> <td> 0.000</td> <td>   -1.473</td> <td>   -1.381</td>\n",
       "</tr>\n",
       "<tr>\n",
       "  <th>pc1_politics</th>             <td>    0.1341</td> <td>    0.053</td> <td>    2.535</td> <td> 0.011</td> <td>    0.030</td> <td>    0.238</td>\n",
       "</tr>\n",
       "<tr>\n",
       "  <th>pc1_misinfo</th>              <td>    0.2448</td> <td>    0.046</td> <td>    5.265</td> <td> 0.000</td> <td>    0.154</td> <td>    0.336</td>\n",
       "</tr>\n",
       "<tr>\n",
       "  <th>pc1_fol</th>                  <td>    0.0013</td> <td>    0.021</td> <td>    0.064</td> <td> 0.949</td> <td>   -0.040</td> <td>    0.042</td>\n",
       "</tr>\n",
       "<tr>\n",
       "  <th>pc1_harmful_language</th>     <td>    0.1761</td> <td>    0.026</td> <td>    6.750</td> <td> 0.000</td> <td>    0.125</td> <td>    0.227</td>\n",
       "</tr>\n",
       "<tr>\n",
       "  <th>pc2_harmful_language</th>     <td>   -0.0830</td> <td>    0.026</td> <td>   -3.226</td> <td> 0.001</td> <td>   -0.133</td> <td>   -0.033</td>\n",
       "</tr>\n",
       "<tr>\n",
       "  <th>pc3_harmful_language</th>     <td>   -0.0662</td> <td>    0.021</td> <td>   -3.216</td> <td> 0.001</td> <td>   -0.107</td> <td>   -0.026</td>\n",
       "</tr>\n",
       "<tr>\n",
       "  <th>pc1_valence</th>              <td>    0.0410</td> <td>    0.023</td> <td>    1.819</td> <td> 0.069</td> <td>   -0.003</td> <td>    0.085</td>\n",
       "</tr>\n",
       "<tr>\n",
       "  <th>tweets_in_2wk</th>            <td>    0.3316</td> <td>    0.021</td> <td>   15.934</td> <td> 0.000</td> <td>    0.291</td> <td>    0.372</td>\n",
       "</tr>\n",
       "<tr>\n",
       "  <th>botsentinel_score</th>        <td>    0.1825</td> <td>    0.039</td> <td>    4.724</td> <td> 0.000</td> <td>    0.107</td> <td>    0.258</td>\n",
       "</tr>\n",
       "<tr>\n",
       "  <th>extremity</th>                <td>   -0.1199</td> <td>    0.023</td> <td>   -5.295</td> <td> 0.000</td> <td>   -0.164</td> <td>   -0.076</td>\n",
       "</tr>\n",
       "<tr>\n",
       "  <th>moral_outrage</th>            <td>    0.0170</td> <td>    0.034</td> <td>    0.501</td> <td> 0.616</td> <td>   -0.049</td> <td>    0.083</td>\n",
       "</tr>\n",
       "<tr>\n",
       "  <th>liwc_political</th>           <td>   -0.0226</td> <td>    0.029</td> <td>   -0.790</td> <td> 0.429</td> <td>   -0.079</td> <td>    0.033</td>\n",
       "</tr>\n",
       "<tr>\n",
       "  <th>log_freq_pr_1h</th>           <td>    0.1222</td> <td>    0.023</td> <td>    5.351</td> <td> 0.000</td> <td>    0.077</td> <td>    0.167</td>\n",
       "</tr>\n",
       "<tr>\n",
       "  <th>log_repeated_tweet_count</th> <td>   -0.0074</td> <td>    0.023</td> <td>   -0.326</td> <td> 0.745</td> <td>   -0.052</td> <td>    0.037</td>\n",
       "</tr>\n",
       "<tr>\n",
       "  <th>barbera_std</th>              <td>   -0.0303</td> <td>    0.024</td> <td>   -1.276</td> <td> 0.202</td> <td>   -0.077</td> <td>    0.016</td>\n",
       "</tr>\n",
       "<tr>\n",
       "  <th>politics_sites1_std</th>      <td>   -0.0259</td> <td>    0.021</td> <td>   -1.224</td> <td> 0.221</td> <td>   -0.067</td> <td>    0.016</td>\n",
       "</tr>\n",
       "<tr>\n",
       "  <th>politics_sites2_ideo_std</th> <td>    0.0612</td> <td>    0.022</td> <td>    2.752</td> <td> 0.006</td> <td>    0.018</td> <td>    0.105</td>\n",
       "</tr>\n",
       "</table>"
      ],
      "text/latex": [
       "\\begin{center}\n",
       "\\begin{tabular}{lclc}\n",
       "\\toprule\n",
       "\\textbf{Dep. Variable:}              &    suspended     & \\textbf{  No. Observations:  } &     9000    \\\\\n",
       "\\textbf{Model:}                      &      Probit      & \\textbf{  Df Residuals:      } &     8982    \\\\\n",
       "\\textbf{Method:}                     &       MLE        & \\textbf{  Df Model:          } &       17    \\\\\n",
       "\\textbf{Date:}                       & Sat, 07 Dec 2024 & \\textbf{  Pseudo R-squ.:     } &   0.1762    \\\\\n",
       "\\textbf{Time:}                       &     15:23:58     & \\textbf{  Log-Likelihood:    } &   -2723.7   \\\\\n",
       "\\textbf{converged:}                  &       True       & \\textbf{  LL-Null:           } &   -3306.3   \\\\\n",
       "\\textbf{Covariance Type:}            &    nonrobust     & \\textbf{  LLR p-value:       } & 3.877e-237  \\\\\n",
       "\\bottomrule\n",
       "\\end{tabular}\n",
       "\\begin{tabular}{lcccccc}\n",
       "                                     & \\textbf{coef} & \\textbf{std err} & \\textbf{z} & \\textbf{P$> |$z$|$} & \\textbf{[0.025} & \\textbf{0.975]}  \\\\\n",
       "\\midrule\n",
       "\\textbf{const}                       &      -1.4273  &        0.023     &   -61.086  &         0.000        &       -1.473    &       -1.381     \\\\\n",
       "\\textbf{pc1\\_politics}               &       0.1341  &        0.053     &     2.535  &         0.011        &        0.030    &        0.238     \\\\\n",
       "\\textbf{pc1\\_misinfo}                &       0.2448  &        0.046     &     5.265  &         0.000        &        0.154    &        0.336     \\\\\n",
       "\\textbf{pc1\\_fol}                    &       0.0013  &        0.021     &     0.064  &         0.949        &       -0.040    &        0.042     \\\\\n",
       "\\textbf{pc1\\_harmful\\_language}      &       0.1761  &        0.026     &     6.750  &         0.000        &        0.125    &        0.227     \\\\\n",
       "\\textbf{pc2\\_harmful\\_language}      &      -0.0830  &        0.026     &    -3.226  &         0.001        &       -0.133    &       -0.033     \\\\\n",
       "\\textbf{pc3\\_harmful\\_language}      &      -0.0662  &        0.021     &    -3.216  &         0.001        &       -0.107    &       -0.026     \\\\\n",
       "\\textbf{pc1\\_valence}                &       0.0410  &        0.023     &     1.819  &         0.069        &       -0.003    &        0.085     \\\\\n",
       "\\textbf{tweets\\_in\\_2wk}             &       0.3316  &        0.021     &    15.934  &         0.000        &        0.291    &        0.372     \\\\\n",
       "\\textbf{botsentinel\\_score}          &       0.1825  &        0.039     &     4.724  &         0.000        &        0.107    &        0.258     \\\\\n",
       "\\textbf{extremity}                   &      -0.1199  &        0.023     &    -5.295  &         0.000        &       -0.164    &       -0.076     \\\\\n",
       "\\textbf{moral\\_outrage}              &       0.0170  &        0.034     &     0.501  &         0.616        &       -0.049    &        0.083     \\\\\n",
       "\\textbf{liwc\\_political}             &      -0.0226  &        0.029     &    -0.790  &         0.429        &       -0.079    &        0.033     \\\\\n",
       "\\textbf{log\\_freq\\_pr\\_1h}           &       0.1222  &        0.023     &     5.351  &         0.000        &        0.077    &        0.167     \\\\\n",
       "\\textbf{log\\_repeated\\_tweet\\_count} &      -0.0074  &        0.023     &    -0.326  &         0.745        &       -0.052    &        0.037     \\\\\n",
       "\\textbf{barbera\\_std}                &      -0.0303  &        0.024     &    -1.276  &         0.202        &       -0.077    &        0.016     \\\\\n",
       "\\textbf{politics\\_sites1\\_std}       &      -0.0259  &        0.021     &    -1.224  &         0.221        &       -0.067    &        0.016     \\\\\n",
       "\\textbf{politics\\_sites2\\_ideo\\_std} &       0.0612  &        0.022     &     2.752  &         0.006        &        0.018    &        0.105     \\\\\n",
       "\\bottomrule\n",
       "\\end{tabular}\n",
       "%\\caption{Probit Regression Results}\n",
       "\\end{center}"
      ],
      "text/plain": [
       "<class 'statsmodels.iolib.summary.Summary'>\n",
       "\"\"\"\n",
       "                          Probit Regression Results                           \n",
       "==============================================================================\n",
       "Dep. Variable:              suspended   No. Observations:                 9000\n",
       "Model:                         Probit   Df Residuals:                     8982\n",
       "Method:                           MLE   Df Model:                           17\n",
       "Date:                Sat, 07 Dec 2024   Pseudo R-squ.:                  0.1762\n",
       "Time:                        15:23:58   Log-Likelihood:                -2723.7\n",
       "converged:                       True   LL-Null:                       -3306.3\n",
       "Covariance Type:            nonrobust   LLR p-value:                3.877e-237\n",
       "============================================================================================\n",
       "                               coef    std err          z      P>|z|      [0.025      0.975]\n",
       "--------------------------------------------------------------------------------------------\n",
       "const                       -1.4273      0.023    -61.086      0.000      -1.473      -1.381\n",
       "pc1_politics                 0.1341      0.053      2.535      0.011       0.030       0.238\n",
       "pc1_misinfo                  0.2448      0.046      5.265      0.000       0.154       0.336\n",
       "pc1_fol                      0.0013      0.021      0.064      0.949      -0.040       0.042\n",
       "pc1_harmful_language         0.1761      0.026      6.750      0.000       0.125       0.227\n",
       "pc2_harmful_language        -0.0830      0.026     -3.226      0.001      -0.133      -0.033\n",
       "pc3_harmful_language        -0.0662      0.021     -3.216      0.001      -0.107      -0.026\n",
       "pc1_valence                  0.0410      0.023      1.819      0.069      -0.003       0.085\n",
       "tweets_in_2wk                0.3316      0.021     15.934      0.000       0.291       0.372\n",
       "botsentinel_score            0.1825      0.039      4.724      0.000       0.107       0.258\n",
       "extremity                   -0.1199      0.023     -5.295      0.000      -0.164      -0.076\n",
       "moral_outrage                0.0170      0.034      0.501      0.616      -0.049       0.083\n",
       "liwc_political              -0.0226      0.029     -0.790      0.429      -0.079       0.033\n",
       "log_freq_pr_1h               0.1222      0.023      5.351      0.000       0.077       0.167\n",
       "log_repeated_tweet_count    -0.0074      0.023     -0.326      0.745      -0.052       0.037\n",
       "barbera_std                 -0.0303      0.024     -1.276      0.202      -0.077       0.016\n",
       "politics_sites1_std         -0.0259      0.021     -1.224      0.221      -0.067       0.016\n",
       "politics_sites2_ideo_std     0.0612      0.022      2.752      0.006       0.018       0.105\n",
       "============================================================================================\n",
       "\"\"\""
      ]
     },
     "execution_count": 60,
     "metadata": {},
     "output_type": "execute_result"
    }
   ],
   "source": [
    "probit_model = Probit(y, X).fit()\n",
    "probit_model.summary()"
   ]
  },
  {
   "cell_type": "markdown",
   "metadata": {},
   "source": [
    "* Something to note here is the *\"goodness of fit\"* of our model.\n",
    "\n",
    "* We have a pseudo-$R^2=0.17$.\n",
    "\n",
    "* This might seem quite small but as we have learnt pseudo-$R^2$ can have much smaller values than $R^2$ and values like $0.2-0.4$ can mean that the model is very good.\n",
    "\n",
    "* In our case $0.17$ is very close to $0.2$ so we can say that we have a good model but maybe not significantly good. However we should keep in mind that we are examining a social phenomenon so a lower pseudo-$R^2$ is expected because of high variability.\n",
    "\n",
    "* Before going on to interpret our results further we will perform the ***Bonferroni correction*** and the ***Holm-Bonferroni*** correction in p-values to reduce False Positives in our results.\n",
    "\n",
    "* We will use $a=0.05$ for a threshold of p-values since this is used a lot in social sciences."
   ]
  },
  {
   "cell_type": "code",
   "execution_count": 61,
   "metadata": {},
   "outputs": [],
   "source": [
    "alpha = 0.05\n",
    "p_values = probit_model.pvalues\n",
    "\n",
    "# Bonferroni correction\n",
    "reject_bonferroni, bonferroni_p_values, _, _ = multipletests(p_values, alpha=alpha, method='bonferroni')\n",
    "\n",
    "# Holm-Bonferroni correction\n",
    "reject_holm, holm_p_values, _, _ = multipletests(p_values, alpha=alpha, method='holm')"
   ]
  },
  {
   "cell_type": "markdown",
   "metadata": {},
   "source": [
    "* And we put everything together in a Dataframe with some formating to make things clearer."
   ]
  },
  {
   "cell_type": "code",
   "execution_count": 62,
   "metadata": {},
   "outputs": [
    {
     "data": {
      "text/html": [
       "<div>\n",
       "<style scoped>\n",
       "    .dataframe tbody tr th:only-of-type {\n",
       "        vertical-align: middle;\n",
       "    }\n",
       "\n",
       "    .dataframe tbody tr th {\n",
       "        vertical-align: top;\n",
       "    }\n",
       "\n",
       "    .dataframe thead th {\n",
       "        text-align: right;\n",
       "    }\n",
       "</style>\n",
       "<table border=\"1\" class=\"dataframe\">\n",
       "  <thead>\n",
       "    <tr style=\"text-align: right;\">\n",
       "      <th></th>\n",
       "      <th>Variable</th>\n",
       "      <th>Coefficient</th>\n",
       "      <th>Original P-Value</th>\n",
       "      <th>Bonferroni P-Value</th>\n",
       "      <th>Holm-Bonferroni P-Value</th>\n",
       "      <th>Bonferroni Significant (a=0.05)</th>\n",
       "      <th>Holm Significant (a=0.05)</th>\n",
       "    </tr>\n",
       "  </thead>\n",
       "  <tbody>\n",
       "    <tr>\n",
       "      <th>0</th>\n",
       "      <td>const</td>\n",
       "      <td>-1.427294</td>\n",
       "      <td>0.0000</td>\n",
       "      <td>0.0000</td>\n",
       "      <td>0.0000</td>\n",
       "      <td>True</td>\n",
       "      <td>True</td>\n",
       "    </tr>\n",
       "    <tr>\n",
       "      <th>1</th>\n",
       "      <td>pc1_politics</td>\n",
       "      <td>0.134137</td>\n",
       "      <td>0.0112</td>\n",
       "      <td>0.2023</td>\n",
       "      <td>0.0899</td>\n",
       "      <td>False</td>\n",
       "      <td>False</td>\n",
       "    </tr>\n",
       "    <tr>\n",
       "      <th>2</th>\n",
       "      <td>pc1_misinfo</td>\n",
       "      <td>0.244822</td>\n",
       "      <td>0.0000</td>\n",
       "      <td>0.0000</td>\n",
       "      <td>0.0000</td>\n",
       "      <td>True</td>\n",
       "      <td>True</td>\n",
       "    </tr>\n",
       "    <tr>\n",
       "      <th>3</th>\n",
       "      <td>pc1_fol</td>\n",
       "      <td>0.001340</td>\n",
       "      <td>0.9487</td>\n",
       "      <td>1.0000</td>\n",
       "      <td>1.0000</td>\n",
       "      <td>False</td>\n",
       "      <td>False</td>\n",
       "    </tr>\n",
       "    <tr>\n",
       "      <th>4</th>\n",
       "      <td>pc1_harmful_language</td>\n",
       "      <td>0.176119</td>\n",
       "      <td>0.0000</td>\n",
       "      <td>0.0000</td>\n",
       "      <td>0.0000</td>\n",
       "      <td>True</td>\n",
       "      <td>True</td>\n",
       "    </tr>\n",
       "    <tr>\n",
       "      <th>5</th>\n",
       "      <td>pc2_harmful_language</td>\n",
       "      <td>-0.082957</td>\n",
       "      <td>0.0013</td>\n",
       "      <td>0.0226</td>\n",
       "      <td>0.0138</td>\n",
       "      <td>True</td>\n",
       "      <td>True</td>\n",
       "    </tr>\n",
       "    <tr>\n",
       "      <th>6</th>\n",
       "      <td>pc3_harmful_language</td>\n",
       "      <td>-0.066210</td>\n",
       "      <td>0.0013</td>\n",
       "      <td>0.0234</td>\n",
       "      <td>0.0138</td>\n",
       "      <td>True</td>\n",
       "      <td>True</td>\n",
       "    </tr>\n",
       "    <tr>\n",
       "      <th>7</th>\n",
       "      <td>pc1_valence</td>\n",
       "      <td>0.040963</td>\n",
       "      <td>0.0688</td>\n",
       "      <td>1.0000</td>\n",
       "      <td>0.4819</td>\n",
       "      <td>False</td>\n",
       "      <td>False</td>\n",
       "    </tr>\n",
       "    <tr>\n",
       "      <th>8</th>\n",
       "      <td>tweets_in_2wk</td>\n",
       "      <td>0.331584</td>\n",
       "      <td>0.0000</td>\n",
       "      <td>0.0000</td>\n",
       "      <td>0.0000</td>\n",
       "      <td>True</td>\n",
       "      <td>True</td>\n",
       "    </tr>\n",
       "    <tr>\n",
       "      <th>9</th>\n",
       "      <td>botsentinel_score</td>\n",
       "      <td>0.182463</td>\n",
       "      <td>0.0000</td>\n",
       "      <td>0.0000</td>\n",
       "      <td>0.0000</td>\n",
       "      <td>True</td>\n",
       "      <td>True</td>\n",
       "    </tr>\n",
       "    <tr>\n",
       "      <th>10</th>\n",
       "      <td>extremity</td>\n",
       "      <td>-0.119896</td>\n",
       "      <td>0.0000</td>\n",
       "      <td>0.0000</td>\n",
       "      <td>0.0000</td>\n",
       "      <td>True</td>\n",
       "      <td>True</td>\n",
       "    </tr>\n",
       "    <tr>\n",
       "      <th>11</th>\n",
       "      <td>moral_outrage</td>\n",
       "      <td>0.016985</td>\n",
       "      <td>0.6164</td>\n",
       "      <td>1.0000</td>\n",
       "      <td>1.0000</td>\n",
       "      <td>False</td>\n",
       "      <td>False</td>\n",
       "    </tr>\n",
       "    <tr>\n",
       "      <th>12</th>\n",
       "      <td>liwc_political</td>\n",
       "      <td>-0.022621</td>\n",
       "      <td>0.4295</td>\n",
       "      <td>1.0000</td>\n",
       "      <td>1.0000</td>\n",
       "      <td>False</td>\n",
       "      <td>False</td>\n",
       "    </tr>\n",
       "    <tr>\n",
       "      <th>13</th>\n",
       "      <td>log_freq_pr_1h</td>\n",
       "      <td>0.122194</td>\n",
       "      <td>0.0000</td>\n",
       "      <td>0.0000</td>\n",
       "      <td>0.0000</td>\n",
       "      <td>True</td>\n",
       "      <td>True</td>\n",
       "    </tr>\n",
       "    <tr>\n",
       "      <th>14</th>\n",
       "      <td>log_repeated_tweet_count</td>\n",
       "      <td>-0.007432</td>\n",
       "      <td>0.7447</td>\n",
       "      <td>1.0000</td>\n",
       "      <td>1.0000</td>\n",
       "      <td>False</td>\n",
       "      <td>False</td>\n",
       "    </tr>\n",
       "    <tr>\n",
       "      <th>15</th>\n",
       "      <td>barbera_std</td>\n",
       "      <td>-0.030345</td>\n",
       "      <td>0.2020</td>\n",
       "      <td>1.0000</td>\n",
       "      <td>1.0000</td>\n",
       "      <td>False</td>\n",
       "      <td>False</td>\n",
       "    </tr>\n",
       "    <tr>\n",
       "      <th>16</th>\n",
       "      <td>politics_sites1_std</td>\n",
       "      <td>-0.025909</td>\n",
       "      <td>0.2211</td>\n",
       "      <td>1.0000</td>\n",
       "      <td>1.0000</td>\n",
       "      <td>False</td>\n",
       "      <td>False</td>\n",
       "    </tr>\n",
       "    <tr>\n",
       "      <th>17</th>\n",
       "      <td>politics_sites2_ideo_std</td>\n",
       "      <td>0.061209</td>\n",
       "      <td>0.0059</td>\n",
       "      <td>0.1066</td>\n",
       "      <td>0.0533</td>\n",
       "      <td>False</td>\n",
       "      <td>False</td>\n",
       "    </tr>\n",
       "  </tbody>\n",
       "</table>\n",
       "</div>"
      ],
      "text/plain": [
       "                    Variable  Coefficient Original P-Value Bonferroni P-Value  \\\n",
       "0                      const    -1.427294           0.0000             0.0000   \n",
       "1               pc1_politics     0.134137           0.0112             0.2023   \n",
       "2                pc1_misinfo     0.244822           0.0000             0.0000   \n",
       "3                    pc1_fol     0.001340           0.9487             1.0000   \n",
       "4       pc1_harmful_language     0.176119           0.0000             0.0000   \n",
       "5       pc2_harmful_language    -0.082957           0.0013             0.0226   \n",
       "6       pc3_harmful_language    -0.066210           0.0013             0.0234   \n",
       "7                pc1_valence     0.040963           0.0688             1.0000   \n",
       "8              tweets_in_2wk     0.331584           0.0000             0.0000   \n",
       "9          botsentinel_score     0.182463           0.0000             0.0000   \n",
       "10                 extremity    -0.119896           0.0000             0.0000   \n",
       "11             moral_outrage     0.016985           0.6164             1.0000   \n",
       "12            liwc_political    -0.022621           0.4295             1.0000   \n",
       "13            log_freq_pr_1h     0.122194           0.0000             0.0000   \n",
       "14  log_repeated_tweet_count    -0.007432           0.7447             1.0000   \n",
       "15               barbera_std    -0.030345           0.2020             1.0000   \n",
       "16       politics_sites1_std    -0.025909           0.2211             1.0000   \n",
       "17  politics_sites2_ideo_std     0.061209           0.0059             0.1066   \n",
       "\n",
       "   Holm-Bonferroni P-Value  Bonferroni Significant (a=0.05)  \\\n",
       "0                   0.0000                             True   \n",
       "1                   0.0899                            False   \n",
       "2                   0.0000                             True   \n",
       "3                   1.0000                            False   \n",
       "4                   0.0000                             True   \n",
       "5                   0.0138                             True   \n",
       "6                   0.0138                             True   \n",
       "7                   0.4819                            False   \n",
       "8                   0.0000                             True   \n",
       "9                   0.0000                             True   \n",
       "10                  0.0000                             True   \n",
       "11                  1.0000                            False   \n",
       "12                  1.0000                            False   \n",
       "13                  0.0000                             True   \n",
       "14                  1.0000                            False   \n",
       "15                  1.0000                            False   \n",
       "16                  1.0000                            False   \n",
       "17                  0.0533                            False   \n",
       "\n",
       "    Holm Significant (a=0.05)  \n",
       "0                        True  \n",
       "1                       False  \n",
       "2                        True  \n",
       "3                       False  \n",
       "4                        True  \n",
       "5                        True  \n",
       "6                        True  \n",
       "7                       False  \n",
       "8                        True  \n",
       "9                        True  \n",
       "10                       True  \n",
       "11                      False  \n",
       "12                      False  \n",
       "13                       True  \n",
       "14                      False  \n",
       "15                      False  \n",
       "16                      False  \n",
       "17                      False  "
      ]
     },
     "execution_count": 62,
     "metadata": {},
     "output_type": "execute_result"
    }
   ],
   "source": [
    "coefficients = probit_model.params \n",
    "results_df = pd.DataFrame({\n",
    "    'Variable': p_values.index,\n",
    "    'Coefficient': coefficients.values,\n",
    "    'Original P-Value': p_values.values,\n",
    "    'Bonferroni P-Value': bonferroni_p_values,\n",
    "    'Holm-Bonferroni P-Value': holm_p_values,\n",
    "    'Bonferroni Significant (a=0.05)': reject_bonferroni,\n",
    "    'Holm Significant (a=0.05)': reject_holm\n",
    "})\n",
    "for col in ['Original P-Value', 'Bonferroni P-Value', 'Holm-Bonferroni P-Value']:\n",
    "    results_df[col] = results_df[col].map('{:.4f}'.format)\n",
    "results_df"
   ]
  },
  {
   "cell_type": "markdown",
   "metadata": {},
   "source": [
    "* Let's see what are results are.\n",
    "\n",
    "* (Results are based on the Holm-Bonferroni and Bonferroni p-values.)\n",
    "\n",
    "**Significant Predictors**\n",
    "\n",
    "* Predictors are sorted from strongest to weakest predictor.\n",
    "\n",
    "* Annotation: *: p-value=$0.000$ in both original, Bonferroni and Holm-Bonferroni corrections.\n",
    "\n",
    "* Very Strong Predictors:\n",
    "\n",
    "    * `tweets_in_2wk` (coef.=$0.33$*):  High posting frequency.\n",
    "    \n",
    "    * `pc1_misinfo` (coef.=$0.24$*):  Posting a lot of misinformation content.\n",
    "    \n",
    "    * `botsentinel_score` (coef.=$0.18$*):  Bot-like behavior.\n",
    "    \n",
    "    * `pc1_harmful_language` (General Harmful Language) (coef.=$0.17$*):  General harmful language.\n",
    "      \n",
    "* Moderately Strong Predictors:\n",
    "\n",
    "    * `log_freq_pr_1h` (coef.=$0.12$*):  Frequent posting within $1$ hour (spamming).\n",
    "    \n",
    "    * `extremity` (coef.=$-0.12$*):  Ideological extremity reduces the likelihood of suspension. This unexpected finding suggests that strongly opinionated posts do not trigger suspension.\n",
    "    \n",
    "* Moderate Predictors:\n",
    "    * `pc2_harmful_language` (High: Hate, Low: Sexually Explicit) (coef.=$-0.08$, p-value < $0.05$):  Sexually explicit content (negative coefficient indicates that as PC2 decreases (more sexually explicit content), the suspension rate increases).\n",
    "    \n",
    "    * `pc3_harmful_language` (High: Targeted Profanity, Low: General Profanity) (coef.=$-0.06$, p-value < $0.05$):  General profanity (negative coefficient suggests that lower PC3 scores (more general profanity) increase suspension rates).\n",
    "    \n",
    "\n",
    "**Not significant Predictors**\n",
    "\n",
    "* `pc1_politics`, `pc1_fol`, `pc1_valence`, `moral_outrage`, `log_repeated_tweet_count`,`politics_sites1_std`, `politics_sites2_ideo_std`, `barbera_std` and `liwc_political` are not significant because their p-values (after the corrections)  $> 0.05$.\n",
    "\n",
    "* Political content, follower-related information, and the sentiment of posts don't seem to be strong predictors of suspension.\n"
   ]
  },
  {
   "cell_type": "markdown",
   "metadata": {},
   "source": [
    "**What do the coefficients mean?**\n",
    "\n",
    "* We sorted the coefficients to get the strength of our predictors.\n",
    "\n",
    "* But how could we interpret these coefficients?\n",
    "\n",
    "* Probit model uses the inverse of the cumulative distribution function (CDF) of the standard normal distribution (denoted as $\\Phi^{-1}$) as the *link function*.\n",
    "\n",
    "* $\\Phi$ maps a $z$-score to a probability of an event .\n",
    "\n",
    "* Mathematically, $$ \\Phi^{-1}(P(Y = 1 | X)) = X\\beta => P(Y = 1 | X) = \\Phi(X\\beta) $$ where $P(Y = 1 | X)$ is probability of suspension, $X$ the independent variables and $\\beta$ the coefficients.\n",
    "\n",
    "* This means that the probability of suspension is calculated by the $Φ(z)$ where $z = X * \\text{coefficients}$.\n",
    "\n",
    "* Let's use `pc1_misinfo` as an example.\n",
    "\n",
    "* A $1$-unit increase in `pc1_misinfo` raises the $z$-score (of the suspension probability) by $0.24$ units since that is the value of its coefficient.\n",
    "\n",
    "* Now if the baseline $( X\\beta )$ value (without the increase) corresponds to initial probability: $\\Phi(X\\beta_{\\text{baseline}})$ after increasing `pc1_misinfo` by $1$, the new probability becomes: $\\Phi(X\\beta_{\\text{baseline}}+ 0.24)$.\n",
    "\n",
    "* <small>(We won't go into details about the exact probability increase as the $Φ$-function has an S-shape. This means the percentage increase in probability depends on the starting point: if the initial probability is $50\\%$, the increase will be much bigger compared to when the starting probability is $90\\%$)<small>"
   ]
  },
  {
   "cell_type": "markdown",
   "metadata": {},
   "source": [
    "## Logit Regression"
   ]
  },
  {
   "cell_type": "markdown",
   "metadata": {},
   "source": [
    "* We saw the predictive strength of our variables using Probit Regression.\n",
    "\n",
    "* Let's now use Logit Regression to cross-examine our results.\n",
    "\n",
    "* Logit Regression is also excellent when it comes to binary outcome results $0/1$ like suspension status.\n",
    "\n",
    "* Having already defined our $X$ and $Y$ earlier in our analysis let's run Logit right away."
   ]
  },
  {
   "cell_type": "code",
   "execution_count": 63,
   "metadata": {},
   "outputs": [
    {
     "name": "stdout",
     "output_type": "stream",
     "text": [
      "Optimization terminated successfully.\n",
      "         Current function value: 0.303039\n",
      "         Iterations 7\n"
     ]
    },
    {
     "data": {
      "text/html": [
       "<table class=\"simpletable\">\n",
       "<caption>Logit Regression Results</caption>\n",
       "<tr>\n",
       "  <th>Dep. Variable:</th>       <td>suspended</td>    <th>  No. Observations:  </th>   <td>  9000</td>  \n",
       "</tr>\n",
       "<tr>\n",
       "  <th>Model:</th>                 <td>Logit</td>      <th>  Df Residuals:      </th>   <td>  8982</td>  \n",
       "</tr>\n",
       "<tr>\n",
       "  <th>Method:</th>                 <td>MLE</td>       <th>  Df Model:          </th>   <td>    17</td>  \n",
       "</tr>\n",
       "<tr>\n",
       "  <th>Date:</th>            <td>Sat, 07 Dec 2024</td> <th>  Pseudo R-squ.:     </th>   <td>0.1751</td>  \n",
       "</tr>\n",
       "<tr>\n",
       "  <th>Time:</th>                <td>15:23:58</td>     <th>  Log-Likelihood:    </th>  <td> -2727.3</td> \n",
       "</tr>\n",
       "<tr>\n",
       "  <th>converged:</th>             <td>True</td>       <th>  LL-Null:           </th>  <td> -3306.3</td> \n",
       "</tr>\n",
       "<tr>\n",
       "  <th>Covariance Type:</th>     <td>nonrobust</td>    <th>  LLR p-value:       </th> <td>1.380e-235</td>\n",
       "</tr>\n",
       "</table>\n",
       "<table class=\"simpletable\">\n",
       "<tr>\n",
       "              <td></td>                <th>coef</th>     <th>std err</th>      <th>z</th>      <th>P>|z|</th>  <th>[0.025</th>    <th>0.975]</th>  \n",
       "</tr>\n",
       "<tr>\n",
       "  <th>const</th>                    <td>   -2.5393</td> <td>    0.049</td> <td>  -51.800</td> <td> 0.000</td> <td>   -2.635</td> <td>   -2.443</td>\n",
       "</tr>\n",
       "<tr>\n",
       "  <th>pc1_politics</th>             <td>    0.2690</td> <td>    0.100</td> <td>    2.680</td> <td> 0.007</td> <td>    0.072</td> <td>    0.466</td>\n",
       "</tr>\n",
       "<tr>\n",
       "  <th>pc1_misinfo</th>              <td>    0.4692</td> <td>    0.087</td> <td>    5.424</td> <td> 0.000</td> <td>    0.300</td> <td>    0.639</td>\n",
       "</tr>\n",
       "<tr>\n",
       "  <th>pc1_fol</th>                  <td>    0.0019</td> <td>    0.039</td> <td>    0.050</td> <td> 0.960</td> <td>   -0.074</td> <td>    0.078</td>\n",
       "</tr>\n",
       "<tr>\n",
       "  <th>pc1_harmful_language</th>     <td>    0.3050</td> <td>    0.048</td> <td>    6.393</td> <td> 0.000</td> <td>    0.212</td> <td>    0.399</td>\n",
       "</tr>\n",
       "<tr>\n",
       "  <th>pc2_harmful_language</th>     <td>   -0.1467</td> <td>    0.047</td> <td>   -3.147</td> <td> 0.002</td> <td>   -0.238</td> <td>   -0.055</td>\n",
       "</tr>\n",
       "<tr>\n",
       "  <th>pc3_harmful_language</th>     <td>   -0.1162</td> <td>    0.037</td> <td>   -3.162</td> <td> 0.002</td> <td>   -0.188</td> <td>   -0.044</td>\n",
       "</tr>\n",
       "<tr>\n",
       "  <th>pc1_valence</th>              <td>    0.0700</td> <td>    0.041</td> <td>    1.700</td> <td> 0.089</td> <td>   -0.011</td> <td>    0.151</td>\n",
       "</tr>\n",
       "<tr>\n",
       "  <th>tweets_in_2wk</th>            <td>    0.6133</td> <td>    0.038</td> <td>   16.203</td> <td> 0.000</td> <td>    0.539</td> <td>    0.688</td>\n",
       "</tr>\n",
       "<tr>\n",
       "  <th>botsentinel_score</th>        <td>    0.3502</td> <td>    0.071</td> <td>    4.949</td> <td> 0.000</td> <td>    0.212</td> <td>    0.489</td>\n",
       "</tr>\n",
       "<tr>\n",
       "  <th>extremity</th>                <td>   -0.2457</td> <td>    0.042</td> <td>   -5.850</td> <td> 0.000</td> <td>   -0.328</td> <td>   -0.163</td>\n",
       "</tr>\n",
       "<tr>\n",
       "  <th>moral_outrage</th>            <td>    0.0437</td> <td>    0.063</td> <td>    0.697</td> <td> 0.486</td> <td>   -0.079</td> <td>    0.166</td>\n",
       "</tr>\n",
       "<tr>\n",
       "  <th>liwc_political</th>           <td>   -0.0594</td> <td>    0.053</td> <td>   -1.123</td> <td> 0.261</td> <td>   -0.163</td> <td>    0.044</td>\n",
       "</tr>\n",
       "<tr>\n",
       "  <th>log_freq_pr_1h</th>           <td>    0.2122</td> <td>    0.042</td> <td>    5.020</td> <td> 0.000</td> <td>    0.129</td> <td>    0.295</td>\n",
       "</tr>\n",
       "<tr>\n",
       "  <th>log_repeated_tweet_count</th> <td>   -0.0178</td> <td>    0.042</td> <td>   -0.422</td> <td> 0.673</td> <td>   -0.101</td> <td>    0.065</td>\n",
       "</tr>\n",
       "<tr>\n",
       "  <th>barbera_std</th>              <td>   -0.0591</td> <td>    0.043</td> <td>   -1.371</td> <td> 0.170</td> <td>   -0.144</td> <td>    0.025</td>\n",
       "</tr>\n",
       "<tr>\n",
       "  <th>politics_sites1_std</th>      <td>   -0.0508</td> <td>    0.039</td> <td>   -1.292</td> <td> 0.196</td> <td>   -0.128</td> <td>    0.026</td>\n",
       "</tr>\n",
       "<tr>\n",
       "  <th>politics_sites2_ideo_std</th> <td>    0.1064</td> <td>    0.041</td> <td>    2.602</td> <td> 0.009</td> <td>    0.026</td> <td>    0.187</td>\n",
       "</tr>\n",
       "</table>"
      ],
      "text/latex": [
       "\\begin{center}\n",
       "\\begin{tabular}{lclc}\n",
       "\\toprule\n",
       "\\textbf{Dep. Variable:}              &    suspended     & \\textbf{  No. Observations:  } &     9000    \\\\\n",
       "\\textbf{Model:}                      &      Logit       & \\textbf{  Df Residuals:      } &     8982    \\\\\n",
       "\\textbf{Method:}                     &       MLE        & \\textbf{  Df Model:          } &       17    \\\\\n",
       "\\textbf{Date:}                       & Sat, 07 Dec 2024 & \\textbf{  Pseudo R-squ.:     } &   0.1751    \\\\\n",
       "\\textbf{Time:}                       &     15:23:58     & \\textbf{  Log-Likelihood:    } &   -2727.3   \\\\\n",
       "\\textbf{converged:}                  &       True       & \\textbf{  LL-Null:           } &   -3306.3   \\\\\n",
       "\\textbf{Covariance Type:}            &    nonrobust     & \\textbf{  LLR p-value:       } & 1.380e-235  \\\\\n",
       "\\bottomrule\n",
       "\\end{tabular}\n",
       "\\begin{tabular}{lcccccc}\n",
       "                                     & \\textbf{coef} & \\textbf{std err} & \\textbf{z} & \\textbf{P$> |$z$|$} & \\textbf{[0.025} & \\textbf{0.975]}  \\\\\n",
       "\\midrule\n",
       "\\textbf{const}                       &      -2.5393  &        0.049     &   -51.800  &         0.000        &       -2.635    &       -2.443     \\\\\n",
       "\\textbf{pc1\\_politics}               &       0.2690  &        0.100     &     2.680  &         0.007        &        0.072    &        0.466     \\\\\n",
       "\\textbf{pc1\\_misinfo}                &       0.4692  &        0.087     &     5.424  &         0.000        &        0.300    &        0.639     \\\\\n",
       "\\textbf{pc1\\_fol}                    &       0.0019  &        0.039     &     0.050  &         0.960        &       -0.074    &        0.078     \\\\\n",
       "\\textbf{pc1\\_harmful\\_language}      &       0.3050  &        0.048     &     6.393  &         0.000        &        0.212    &        0.399     \\\\\n",
       "\\textbf{pc2\\_harmful\\_language}      &      -0.1467  &        0.047     &    -3.147  &         0.002        &       -0.238    &       -0.055     \\\\\n",
       "\\textbf{pc3\\_harmful\\_language}      &      -0.1162  &        0.037     &    -3.162  &         0.002        &       -0.188    &       -0.044     \\\\\n",
       "\\textbf{pc1\\_valence}                &       0.0700  &        0.041     &     1.700  &         0.089        &       -0.011    &        0.151     \\\\\n",
       "\\textbf{tweets\\_in\\_2wk}             &       0.6133  &        0.038     &    16.203  &         0.000        &        0.539    &        0.688     \\\\\n",
       "\\textbf{botsentinel\\_score}          &       0.3502  &        0.071     &     4.949  &         0.000        &        0.212    &        0.489     \\\\\n",
       "\\textbf{extremity}                   &      -0.2457  &        0.042     &    -5.850  &         0.000        &       -0.328    &       -0.163     \\\\\n",
       "\\textbf{moral\\_outrage}              &       0.0437  &        0.063     &     0.697  &         0.486        &       -0.079    &        0.166     \\\\\n",
       "\\textbf{liwc\\_political}             &      -0.0594  &        0.053     &    -1.123  &         0.261        &       -0.163    &        0.044     \\\\\n",
       "\\textbf{log\\_freq\\_pr\\_1h}           &       0.2122  &        0.042     &     5.020  &         0.000        &        0.129    &        0.295     \\\\\n",
       "\\textbf{log\\_repeated\\_tweet\\_count} &      -0.0178  &        0.042     &    -0.422  &         0.673        &       -0.101    &        0.065     \\\\\n",
       "\\textbf{barbera\\_std}                &      -0.0591  &        0.043     &    -1.371  &         0.170        &       -0.144    &        0.025     \\\\\n",
       "\\textbf{politics\\_sites1\\_std}       &      -0.0508  &        0.039     &    -1.292  &         0.196        &       -0.128    &        0.026     \\\\\n",
       "\\textbf{politics\\_sites2\\_ideo\\_std} &       0.1064  &        0.041     &     2.602  &         0.009        &        0.026    &        0.187     \\\\\n",
       "\\bottomrule\n",
       "\\end{tabular}\n",
       "%\\caption{Logit Regression Results}\n",
       "\\end{center}"
      ],
      "text/plain": [
       "<class 'statsmodels.iolib.summary.Summary'>\n",
       "\"\"\"\n",
       "                           Logit Regression Results                           \n",
       "==============================================================================\n",
       "Dep. Variable:              suspended   No. Observations:                 9000\n",
       "Model:                          Logit   Df Residuals:                     8982\n",
       "Method:                           MLE   Df Model:                           17\n",
       "Date:                Sat, 07 Dec 2024   Pseudo R-squ.:                  0.1751\n",
       "Time:                        15:23:58   Log-Likelihood:                -2727.3\n",
       "converged:                       True   LL-Null:                       -3306.3\n",
       "Covariance Type:            nonrobust   LLR p-value:                1.380e-235\n",
       "============================================================================================\n",
       "                               coef    std err          z      P>|z|      [0.025      0.975]\n",
       "--------------------------------------------------------------------------------------------\n",
       "const                       -2.5393      0.049    -51.800      0.000      -2.635      -2.443\n",
       "pc1_politics                 0.2690      0.100      2.680      0.007       0.072       0.466\n",
       "pc1_misinfo                  0.4692      0.087      5.424      0.000       0.300       0.639\n",
       "pc1_fol                      0.0019      0.039      0.050      0.960      -0.074       0.078\n",
       "pc1_harmful_language         0.3050      0.048      6.393      0.000       0.212       0.399\n",
       "pc2_harmful_language        -0.1467      0.047     -3.147      0.002      -0.238      -0.055\n",
       "pc3_harmful_language        -0.1162      0.037     -3.162      0.002      -0.188      -0.044\n",
       "pc1_valence                  0.0700      0.041      1.700      0.089      -0.011       0.151\n",
       "tweets_in_2wk                0.6133      0.038     16.203      0.000       0.539       0.688\n",
       "botsentinel_score            0.3502      0.071      4.949      0.000       0.212       0.489\n",
       "extremity                   -0.2457      0.042     -5.850      0.000      -0.328      -0.163\n",
       "moral_outrage                0.0437      0.063      0.697      0.486      -0.079       0.166\n",
       "liwc_political              -0.0594      0.053     -1.123      0.261      -0.163       0.044\n",
       "log_freq_pr_1h               0.2122      0.042      5.020      0.000       0.129       0.295\n",
       "log_repeated_tweet_count    -0.0178      0.042     -0.422      0.673      -0.101       0.065\n",
       "barbera_std                 -0.0591      0.043     -1.371      0.170      -0.144       0.025\n",
       "politics_sites1_std         -0.0508      0.039     -1.292      0.196      -0.128       0.026\n",
       "politics_sites2_ideo_std     0.1064      0.041      2.602      0.009       0.026       0.187\n",
       "============================================================================================\n",
       "\"\"\""
      ]
     },
     "execution_count": 63,
     "metadata": {},
     "output_type": "execute_result"
    }
   ],
   "source": [
    "logit_model = Logit(y, X).fit()\n",
    "logit_model.summary()"
   ]
  },
  {
   "cell_type": "markdown",
   "metadata": {},
   "source": [
    "* We note here that *\"goodness of fit\"* based on pseudo-$R^2=0.17$ the same as in Probit Regression.\n",
    "\n",
    "* But let's move on to ***Bonferroni correction*** and the ***Holm-Bonferroni*** correction in p-values."
   ]
  },
  {
   "cell_type": "code",
   "execution_count": 64,
   "metadata": {},
   "outputs": [],
   "source": [
    "alpha = 0.05\n",
    "p_values = logit_model.pvalues\n",
    "\n",
    "# Bonferroni correction\n",
    "reject_bonferroni, bonferroni_p_values, _, _ = multipletests(p_values, alpha=alpha, method='bonferroni')\n",
    "\n",
    "# Holm-Bonferroni correction\n",
    "reject_holm, holm_p_values, _, _ = multipletests(p_values, alpha=alpha, method='holm')"
   ]
  },
  {
   "cell_type": "markdown",
   "metadata": {},
   "source": [
    "* And again we put all our results together in a Dataframe with some formating."
   ]
  },
  {
   "cell_type": "code",
   "execution_count": 65,
   "metadata": {},
   "outputs": [
    {
     "data": {
      "text/html": [
       "<div>\n",
       "<style scoped>\n",
       "    .dataframe tbody tr th:only-of-type {\n",
       "        vertical-align: middle;\n",
       "    }\n",
       "\n",
       "    .dataframe tbody tr th {\n",
       "        vertical-align: top;\n",
       "    }\n",
       "\n",
       "    .dataframe thead th {\n",
       "        text-align: right;\n",
       "    }\n",
       "</style>\n",
       "<table border=\"1\" class=\"dataframe\">\n",
       "  <thead>\n",
       "    <tr style=\"text-align: right;\">\n",
       "      <th></th>\n",
       "      <th>Variable</th>\n",
       "      <th>Coefficient</th>\n",
       "      <th>Original P-Value</th>\n",
       "      <th>Bonferroni P-Value</th>\n",
       "      <th>Holm-Bonferroni P-Value</th>\n",
       "      <th>Bonferroni Significant (a=0.05)</th>\n",
       "      <th>Holm Significant (a=0.05)</th>\n",
       "    </tr>\n",
       "  </thead>\n",
       "  <tbody>\n",
       "    <tr>\n",
       "      <th>0</th>\n",
       "      <td>const</td>\n",
       "      <td>-2.539349</td>\n",
       "      <td>0.0000</td>\n",
       "      <td>0.0000</td>\n",
       "      <td>0.0000</td>\n",
       "      <td>True</td>\n",
       "      <td>True</td>\n",
       "    </tr>\n",
       "    <tr>\n",
       "      <th>1</th>\n",
       "      <td>pc1_politics</td>\n",
       "      <td>0.269006</td>\n",
       "      <td>0.0074</td>\n",
       "      <td>0.1327</td>\n",
       "      <td>0.0663</td>\n",
       "      <td>False</td>\n",
       "      <td>False</td>\n",
       "    </tr>\n",
       "    <tr>\n",
       "      <th>2</th>\n",
       "      <td>pc1_misinfo</td>\n",
       "      <td>0.469216</td>\n",
       "      <td>0.0000</td>\n",
       "      <td>0.0000</td>\n",
       "      <td>0.0000</td>\n",
       "      <td>True</td>\n",
       "      <td>True</td>\n",
       "    </tr>\n",
       "    <tr>\n",
       "      <th>3</th>\n",
       "      <td>pc1_fol</td>\n",
       "      <td>0.001930</td>\n",
       "      <td>0.9602</td>\n",
       "      <td>1.0000</td>\n",
       "      <td>1.0000</td>\n",
       "      <td>False</td>\n",
       "      <td>False</td>\n",
       "    </tr>\n",
       "    <tr>\n",
       "      <th>4</th>\n",
       "      <td>pc1_harmful_language</td>\n",
       "      <td>0.305038</td>\n",
       "      <td>0.0000</td>\n",
       "      <td>0.0000</td>\n",
       "      <td>0.0000</td>\n",
       "      <td>True</td>\n",
       "      <td>True</td>\n",
       "    </tr>\n",
       "    <tr>\n",
       "      <th>5</th>\n",
       "      <td>pc2_harmful_language</td>\n",
       "      <td>-0.146743</td>\n",
       "      <td>0.0016</td>\n",
       "      <td>0.0297</td>\n",
       "      <td>0.0173</td>\n",
       "      <td>True</td>\n",
       "      <td>True</td>\n",
       "    </tr>\n",
       "    <tr>\n",
       "      <th>6</th>\n",
       "      <td>pc3_harmful_language</td>\n",
       "      <td>-0.116236</td>\n",
       "      <td>0.0016</td>\n",
       "      <td>0.0282</td>\n",
       "      <td>0.0173</td>\n",
       "      <td>True</td>\n",
       "      <td>True</td>\n",
       "    </tr>\n",
       "    <tr>\n",
       "      <th>7</th>\n",
       "      <td>pc1_valence</td>\n",
       "      <td>0.070005</td>\n",
       "      <td>0.0892</td>\n",
       "      <td>1.0000</td>\n",
       "      <td>0.6242</td>\n",
       "      <td>False</td>\n",
       "      <td>False</td>\n",
       "    </tr>\n",
       "    <tr>\n",
       "      <th>8</th>\n",
       "      <td>tweets_in_2wk</td>\n",
       "      <td>0.613340</td>\n",
       "      <td>0.0000</td>\n",
       "      <td>0.0000</td>\n",
       "      <td>0.0000</td>\n",
       "      <td>True</td>\n",
       "      <td>True</td>\n",
       "    </tr>\n",
       "    <tr>\n",
       "      <th>9</th>\n",
       "      <td>botsentinel_score</td>\n",
       "      <td>0.350171</td>\n",
       "      <td>0.0000</td>\n",
       "      <td>0.0000</td>\n",
       "      <td>0.0000</td>\n",
       "      <td>True</td>\n",
       "      <td>True</td>\n",
       "    </tr>\n",
       "    <tr>\n",
       "      <th>10</th>\n",
       "      <td>extremity</td>\n",
       "      <td>-0.245719</td>\n",
       "      <td>0.0000</td>\n",
       "      <td>0.0000</td>\n",
       "      <td>0.0000</td>\n",
       "      <td>True</td>\n",
       "      <td>True</td>\n",
       "    </tr>\n",
       "    <tr>\n",
       "      <th>11</th>\n",
       "      <td>moral_outrage</td>\n",
       "      <td>0.043654</td>\n",
       "      <td>0.4858</td>\n",
       "      <td>1.0000</td>\n",
       "      <td>1.0000</td>\n",
       "      <td>False</td>\n",
       "      <td>False</td>\n",
       "    </tr>\n",
       "    <tr>\n",
       "      <th>12</th>\n",
       "      <td>liwc_political</td>\n",
       "      <td>-0.059396</td>\n",
       "      <td>0.2613</td>\n",
       "      <td>1.0000</td>\n",
       "      <td>1.0000</td>\n",
       "      <td>False</td>\n",
       "      <td>False</td>\n",
       "    </tr>\n",
       "    <tr>\n",
       "      <th>13</th>\n",
       "      <td>log_freq_pr_1h</td>\n",
       "      <td>0.212241</td>\n",
       "      <td>0.0000</td>\n",
       "      <td>0.0000</td>\n",
       "      <td>0.0000</td>\n",
       "      <td>True</td>\n",
       "      <td>True</td>\n",
       "    </tr>\n",
       "    <tr>\n",
       "      <th>14</th>\n",
       "      <td>log_repeated_tweet_count</td>\n",
       "      <td>-0.017821</td>\n",
       "      <td>0.6734</td>\n",
       "      <td>1.0000</td>\n",
       "      <td>1.0000</td>\n",
       "      <td>False</td>\n",
       "      <td>False</td>\n",
       "    </tr>\n",
       "    <tr>\n",
       "      <th>15</th>\n",
       "      <td>barbera_std</td>\n",
       "      <td>-0.059144</td>\n",
       "      <td>0.1704</td>\n",
       "      <td>1.0000</td>\n",
       "      <td>1.0000</td>\n",
       "      <td>False</td>\n",
       "      <td>False</td>\n",
       "    </tr>\n",
       "    <tr>\n",
       "      <th>16</th>\n",
       "      <td>politics_sites1_std</td>\n",
       "      <td>-0.050832</td>\n",
       "      <td>0.1965</td>\n",
       "      <td>1.0000</td>\n",
       "      <td>1.0000</td>\n",
       "      <td>False</td>\n",
       "      <td>False</td>\n",
       "    </tr>\n",
       "    <tr>\n",
       "      <th>17</th>\n",
       "      <td>politics_sites2_ideo_std</td>\n",
       "      <td>0.106397</td>\n",
       "      <td>0.0093</td>\n",
       "      <td>0.1668</td>\n",
       "      <td>0.0741</td>\n",
       "      <td>False</td>\n",
       "      <td>False</td>\n",
       "    </tr>\n",
       "  </tbody>\n",
       "</table>\n",
       "</div>"
      ],
      "text/plain": [
       "                    Variable  Coefficient Original P-Value Bonferroni P-Value  \\\n",
       "0                      const    -2.539349           0.0000             0.0000   \n",
       "1               pc1_politics     0.269006           0.0074             0.1327   \n",
       "2                pc1_misinfo     0.469216           0.0000             0.0000   \n",
       "3                    pc1_fol     0.001930           0.9602             1.0000   \n",
       "4       pc1_harmful_language     0.305038           0.0000             0.0000   \n",
       "5       pc2_harmful_language    -0.146743           0.0016             0.0297   \n",
       "6       pc3_harmful_language    -0.116236           0.0016             0.0282   \n",
       "7                pc1_valence     0.070005           0.0892             1.0000   \n",
       "8              tweets_in_2wk     0.613340           0.0000             0.0000   \n",
       "9          botsentinel_score     0.350171           0.0000             0.0000   \n",
       "10                 extremity    -0.245719           0.0000             0.0000   \n",
       "11             moral_outrage     0.043654           0.4858             1.0000   \n",
       "12            liwc_political    -0.059396           0.2613             1.0000   \n",
       "13            log_freq_pr_1h     0.212241           0.0000             0.0000   \n",
       "14  log_repeated_tweet_count    -0.017821           0.6734             1.0000   \n",
       "15               barbera_std    -0.059144           0.1704             1.0000   \n",
       "16       politics_sites1_std    -0.050832           0.1965             1.0000   \n",
       "17  politics_sites2_ideo_std     0.106397           0.0093             0.1668   \n",
       "\n",
       "   Holm-Bonferroni P-Value  Bonferroni Significant (a=0.05)  \\\n",
       "0                   0.0000                             True   \n",
       "1                   0.0663                            False   \n",
       "2                   0.0000                             True   \n",
       "3                   1.0000                            False   \n",
       "4                   0.0000                             True   \n",
       "5                   0.0173                             True   \n",
       "6                   0.0173                             True   \n",
       "7                   0.6242                            False   \n",
       "8                   0.0000                             True   \n",
       "9                   0.0000                             True   \n",
       "10                  0.0000                             True   \n",
       "11                  1.0000                            False   \n",
       "12                  1.0000                            False   \n",
       "13                  0.0000                             True   \n",
       "14                  1.0000                            False   \n",
       "15                  1.0000                            False   \n",
       "16                  1.0000                            False   \n",
       "17                  0.0741                            False   \n",
       "\n",
       "    Holm Significant (a=0.05)  \n",
       "0                        True  \n",
       "1                       False  \n",
       "2                        True  \n",
       "3                       False  \n",
       "4                        True  \n",
       "5                        True  \n",
       "6                        True  \n",
       "7                       False  \n",
       "8                        True  \n",
       "9                        True  \n",
       "10                       True  \n",
       "11                      False  \n",
       "12                      False  \n",
       "13                       True  \n",
       "14                      False  \n",
       "15                      False  \n",
       "16                      False  \n",
       "17                      False  "
      ]
     },
     "execution_count": 65,
     "metadata": {},
     "output_type": "execute_result"
    }
   ],
   "source": [
    "coefficients = logit_model.params \n",
    "results_df = pd.DataFrame({\n",
    "    'Variable': p_values.index,\n",
    "    'Coefficient': coefficients.values,\n",
    "    'Original P-Value': p_values.values,\n",
    "    'Bonferroni P-Value': bonferroni_p_values,\n",
    "    'Holm-Bonferroni P-Value': holm_p_values,\n",
    "    'Bonferroni Significant (a=0.05)': reject_bonferroni,\n",
    "    'Holm Significant (a=0.05)': reject_holm\n",
    "})\n",
    "for col in ['Original P-Value', 'Bonferroni P-Value', 'Holm-Bonferroni P-Value']:\n",
    "    results_df[col] = results_df[col].map('{:.4f}'.format)\n",
    "results_df"
   ]
  },
  {
   "cell_type": "markdown",
   "metadata": {},
   "source": [
    "* Results are based on the Holm-Bonferroni and Bonferroni p-values.\n",
    "\n",
    "**Significant Predictors**\n",
    "\n",
    "* Predictors are sorted from strongest to weakest predictor.\n",
    "\n",
    "* Annotation: *: p-value=$0.000$ in both original, Bonferroni and Holm-Bonferroni corrections.\n",
    "\n",
    "* Something important to note here is that now we can interpret our results in a more intuitive way.\n",
    "\n",
    "* Logit coefficients show how a $1$-unit increase in the predictor affects the **log odds** of suspension. To find the **odds ratio**, we calculate:\n",
    "\n",
    "$$\n",
    "\\text{Odds Ratio} = e^{\\text{coefficient}}\n",
    "$$\n",
    "\n",
    "* The odds ratio tells us how much more (or less) likely an event is to occur, expressed as a percentage increase or decrease in odds.\n",
    "\n",
    "* Very Strong Predictors:\n",
    "\n",
    "    * `tweets_in_2wk` (coef.=$0.61$*):  \n",
    "      $e^{0.61} \\approx 1.84 \\Rightarrow 84\\%$ increase in odds.  \n",
    "    \n",
    "    * `pc1_misinfo` (coef.=$0.47$*):  \n",
    "      $e^{0.47} \\approx 1.60 \\Rightarrow 60\\%$ increase in odds.  \n",
    "    \n",
    "    * `botsentinel_score` (coef.=$0.35$*):  \n",
    "      $e^{0.35} \\approx 1.42 \\Rightarrow 42\\%$ increase in odds.  \n",
    "    \n",
    "    * `pc1_harmful_language` (coef.=$0.31$*):  \n",
    "      $e^{0.31} \\approx 1.36 \\Rightarrow 36\\%$ increase in odds.  \n",
    "\n",
    "* Moderately Strong Predictors:\n",
    "\n",
    "    * `log_freq_pr_1h` (coef.=$0.21$*):  \n",
    "      $e^{0.21} \\approx 1.23 \\Rightarrow 23\\%$ increase in odds.  \n",
    "    \n",
    "    * `extremity` (coef.=$-0.25$*):  \n",
    "      $e^{-0.25} \\approx 0.78 \\Rightarrow 22\\%$ decrease in odds.  \n",
    "\n",
    "\n",
    "* Moderate Predictors:\n",
    "\n",
    "    * `pc2_harmful_language` (High: Hate, Low: Sexually Explicit) (coef.=$-0.15$, p-value < $0.05$): (reversing hate with sexual explicitness we get coef.: $0.15$) \n",
    "      $e^{0.15} \\approx 1.16 \\Rightarrow 16\\%$ increase in odds if a user posts sexually explicit content (low pc2 values).  \n",
    "    \n",
    "    * `pc3_harmful_language` (High: Targeted Profanity, Low: General Profanity) (coef.=$-0.12$, p-value < $0.05$): (reversing targeted profanity with general profanity we get coef.: $0.12$) \n",
    "      $e^{0.12} \\approx 1.12 \\Rightarrow 12\\%$ increase in odds if a user posts general profanity content (low pc3 values).  \n",
    "    \n",
    "\n",
    "**Not significant Predictors**\n",
    "\n",
    "* `pc1_politics`, `pc1_fol`, `pc1_valence`, `moral_outrage`, `log_repeated_tweet_count`,`politics_sites1_std`, `politics_sites2_ideo_std`, `barbera_std` and `liwc_political` are not significant because their p-values (after the corrections)  $> 0.05$.\n",
    "\n",
    "* Political content, follower-related information, and the sentiment of posts once again don't seem to be strong predictors of suspension."
   ]
  },
  {
   "cell_type": "markdown",
   "metadata": {},
   "source": [
    "## Comparison of Regression Results"
   ]
  },
  {
   "cell_type": "markdown",
   "metadata": {},
   "source": [
    "* Both Probit and Logit models identify the same significant predictors after Bonferroni and Holm-Bonferroni corrections.\n",
    "\n",
    "* Both models agree that suspension is primarily predicted by high posting frequency, misinformation content, and bot-like behavior.\n",
    "\n",
    "* Harmful language, spamming, sexually explicit content, and general profanity are also strong predictors.\n",
    "\n",
    "* Most importantly for our reasearch, political orientation is not statistically significant in neither of the Regression models."
   ]
  },
  {
   "cell_type": "markdown",
   "metadata": {},
   "source": [
    "# Conclusion\n"
   ]
  },
  {
   "cell_type": "markdown",
   "metadata": {},
   "source": [
    "* $4$ things are very clear in our research results (for the time period examined: 2020 elections):\n",
    "\n",
    "    * More Republicans faced suspension on Twitter than Liberals.\n",
    " \n",
    "    * Republicans posted or shared fake news URLs on Twitter more than Liberals.\n",
    "\n",
    "    * Twitter does not suspend accounts based on their political orientation.\n",
    " \n",
    "    * Twitter targets accounts for suspension that have posted or shared fake news (amongst other criteria).\n",
    " \n",
    "* Based on all this we can safely agree with *Nature's* recent publication ([Mosleh, M., Yang, Q., Zaman, T., Pennycook, G., & Rand, D. G. (2024). Differences in misinformation sharing can lead to politically asymmetric sanctions. Nature, 634, 17 October 2024. https://doi.org/10.1038/s41586-024-07942-8](https://doi.org/10.1038/s41586-024-07942-8)), that the observed politically asymmetric suspensions are driven by differences in misinformation sharing rather than platform bias."
   ]
  },
  {
   "cell_type": "markdown",
   "metadata": {},
   "source": [
    "# Note\n",
    "\n",
    "* The analysis we have performed is very similar to the article's analysis with minor differences (like in some independent variables in our regression models).\n",
    "\n",
    "* Our results were compared to theirs and were almost the same, showing strong agreement with their findings."
   ]
  }
 ],
 "metadata": {
  "kernelspec": {
   "display_name": "Python 3 (ipykernel)",
   "language": "python",
   "name": "python3"
  },
  "language_info": {
   "codemirror_mode": {
    "name": "ipython",
    "version": 3
   },
   "file_extension": ".py",
   "mimetype": "text/x-python",
   "name": "python",
   "nbconvert_exporter": "python",
   "pygments_lexer": "ipython3",
   "version": "3.10.15"
  },
  "widgets": {
   "application/vnd.jupyter.widget-state+json": {
    "state": {},
    "version_major": 2,
    "version_minor": 0
   }
  }
 },
 "nbformat": 4,
 "nbformat_minor": 4
}
